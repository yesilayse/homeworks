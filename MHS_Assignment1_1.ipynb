{
 "cells": [
  {
   "cell_type": "code",
   "execution_count": null,
   "metadata": {
    "id": "qwNEkmL2rJVk"
   },
   "outputs": [],
   "source": [
    "# Assignment 1 "
   ]
  },
  {
   "cell_type": "code",
   "execution_count": 2,
   "metadata": {
    "id": "YB_uynLdrJVq"
   },
   "outputs": [],
   "source": [
    "# Required libraries loaded\n",
    "import numpy as np\n",
    "import pandas as pd"
   ]
  },
  {
   "cell_type": "code",
   "execution_count": 3,
   "metadata": {
    "colab": {
     "base_uri": "https://localhost:8080/"
    },
    "id": "jbDou9_crJVr",
    "outputId": "7755b82d-a7c4-4713-f20d-7176d79aa451"
   },
   "outputs": [
    {
     "name": "stdout",
     "output_type": "stream",
     "text": [
      "Requirement already satisfied: tabulate in c:\\anaconda3\\lib\\site-packages (0.9.0)\n"
     ]
    },
    {
     "name": "stderr",
     "output_type": "stream",
     "text": [
      "\n",
      "[notice] A new release of pip available: 22.2.2 -> 22.3\n",
      "[notice] To update, run: python.exe -m pip install --upgrade pip\n"
     ]
    }
   ],
   "source": [
    "# The table we use, 'tabulate', has been imported in order to give a more organized view to the created matrices.\n",
    "!pip install tabulate\n",
    "from tabulate import tabulate"
   ]
  },
  {
   "cell_type": "code",
   "execution_count": 4,
   "metadata": {
    "colab": {
     "base_uri": "https://localhost:8080/"
    },
    "id": "awqpYCedrJVt",
    "outputId": "5dbc4798-43cf-42b1-bb98-8650030fd7ea"
   },
   "outputs": [
    {
     "name": "stdout",
     "output_type": "stream",
     "text": [
      "['2,0,2,0,3', '-2,0,0,-1,-4']\n"
     ]
    }
   ],
   "source": [
    "# input.txt file uploaded which includes stations and their sequence of actions. \n",
    "conveyor_capacity = [line.rstrip() for line in open('input.txt')]\n",
    "print(conveyor_capacity)"
   ]
  },
  {
   "cell_type": "code",
   "execution_count": 5,
   "metadata": {
    "colab": {
     "base_uri": "https://localhost:8080/"
    },
    "id": "excfBR2YrJVu",
    "outputId": "a8f1eaf5-2e71-4c65-b049-9cb506f2f8ea"
   },
   "outputs": [
    {
     "name": "stdout",
     "output_type": "stream",
     "text": [
      "2,0,2,0,3\n",
      "-2,0,0,-1,-4\n"
     ]
    }
   ],
   "source": [
    "# We printed the 1st item of the list to the f1 station and the 2nd item to the f2 station. However, data is listed as a string. \n",
    "f1=conveyor_capacity[0]\n",
    "f2=conveyor_capacity[1]\n",
    "print(f1)\n",
    "print(f2)"
   ]
  },
  {
   "cell_type": "code",
   "execution_count": 6,
   "metadata": {
    "colab": {
     "base_uri": "https://localhost:8080/"
    },
    "id": "CbrKcN06rJVu",
    "outputId": "be7dd6c5-eeeb-4cc6-9f22-ed39d4d08395"
   },
   "outputs": [
    {
     "name": "stdout",
     "output_type": "stream",
     "text": [
      "['2', '0', '2', '0', '3']\n",
      "['-2', '0', '0', '-1', '-4']\n"
     ]
    }
   ],
   "source": [
    "# numbers are listed separated by commas.\n",
    "def Convert(string):\n",
    "    li = list(string.split(\",\"))\n",
    "    return li\n",
    "f1=Convert(f1)\n",
    "f2=Convert(f2)\n",
    "print(f1)\n",
    "print(f2)"
   ]
  },
  {
   "cell_type": "code",
   "execution_count": 7,
   "metadata": {
    "colab": {
     "base_uri": "https://localhost:8080/"
    },
    "id": "RcSsJW8wrJVv",
    "outputId": "a22e5419-fe37-48d7-d5b7-396f916158cc"
   },
   "outputs": [
    {
     "name": "stdout",
     "output_type": "stream",
     "text": [
      "[2, 0, 2, 0, 3]\n",
      "[-2, 0, 0, -1, -4]\n"
     ]
    }
   ],
   "source": [
    "#The eval function sends a string containing Python commands to the interpreter and returns the result. Converts string numbers as integers. Integer numbers are listed.\n",
    "F1= [eval(i) for i in f1]\n",
    "F2= [eval(i) for i in f2]\n",
    "print(F1)\n",
    "print(F2)"
   ]
  },
  {
   "cell_type": "code",
   "execution_count": 8,
   "metadata": {
    "colab": {
     "base_uri": "https://localhost:8080/"
    },
    "id": "XT6RSnvRrJVv",
    "outputId": "c991ecbd-5734-405d-e5ef-e10eb091e4ed"
   },
   "outputs": [
    {
     "name": "stdout",
     "output_type": "stream",
     "text": [
      "[[1. 4. 2. 5. 3.]\n",
      " [2. 5. 3. 1. 4.]\n",
      " [3. 1. 4. 2. 5.]\n",
      " [4. 2. 5. 3. 1.]\n",
      " [5. 3. 1. 4. 2.]\n",
      " [1. 4. 2. 5. 3.]\n",
      " [2. 5. 3. 1. 4.]\n",
      " [3. 1. 4. 2. 5.]]\n"
     ]
    }
   ],
   "source": [
    "zero_matrıx = np.zeros((8,5)) #An 8 by 5 zero matrix is created.Round number is 5.\n",
    "count=1\n",
    "#zero_matrıx[0][0]=1\n",
    "carrier=8 #The number of carriers is 8.\n",
    "\n",
    "for i in range(len(f1)): #The length of f1 is Round number which is equal to 5.\n",
    "    for j in range(carrier):\n",
    "        zero_matrıx[j][i]=count # The count from 1 to 5 is written into the 8 by 5 matrix. \n",
    "        count+=1\n",
    "        if count==6: #If count is equal to 6, the count is set to 1 again. \n",
    "            count=1\n",
    "print(zero_matrıx)"
   ]
  },
  {
   "cell_type": "code",
   "execution_count": 9,
   "metadata": {
    "colab": {
     "base_uri": "https://localhost:8080/"
    },
    "id": "NIBh-y6nrJVw",
    "outputId": "d7087383-3403-42e7-efc7-eabbd0f9980a"
   },
   "outputs": [
    {
     "name": "stdout",
     "output_type": "stream",
     "text": [
      "[[0. 0. 0. 0. 0. 0. 0.]\n",
      " [0. 0. 0. 0. 0. 0. 0.]\n",
      " [0. 0. 0. 0. 0. 0. 0.]\n",
      " [0. 0. 0. 0. 0. 0. 0.]\n",
      " [0. 0. 0. 0. 0. 0. 0.]]\n"
     ]
    }
   ],
   "source": [
    "# A 5 by 7 zero matrix called 'loads' is created.\n",
    "loads= np.zeros((5,7))\n",
    "print(loads)"
   ]
  },
  {
   "cell_type": "code",
   "execution_count": 10,
   "metadata": {
    "colab": {
     "base_uri": "https://localhost:8080/"
    },
    "id": "W0DvTbO2rJVw",
    "outputId": "fc953ab2-5bd6-48eb-dec9-257062519abf",
    "scrolled": true
   },
   "outputs": [
    {
     "name": "stdout",
     "output_type": "stream",
     "text": [
      "[[ 1.  2. -2.  2.  0.  0.  0.]\n",
      " [ 4.  0. -1.  0. -1.  0.  0.]\n",
      " [ 2.  0.  0. -1. -1.  0.  0.]\n",
      " [ 5.  3. -4.  2. -2.  0.  0.]\n",
      " [ 3.  2.  0.  0.  0.  0.  0.]]\n"
     ]
    }
   ],
   "source": [
    "\n",
    "for i in range(5):\n",
    "    loads[i][0]=zero_matrıx[0][i] #The 1st row of the zero matrix is written to the 1st column of the loads matrix.\n",
    "    loads[i][1]=f1[int(loads[i][0])-1] #The values whose values in the f1 station correspond to the values in the 1st column of the loads matrix are written in the 2nd column.\n",
    "    loads[i][2]=f2[int(loads[i][0])-1] #The values whose values in the f1 station correspond to the values in the 1st column of the loads matrix are written in the 3rd column.\n",
    "    loads[0][3]=loads[0][1] #The value in the 2nd column of the 1st row is written in the 4th column. Cumulative sum is started to be made.\n",
    "    loads[0][4]=loads[0][1]+loads[0][2]\n",
    "    loads[0][4]=loads[0][1]+loads[0][2]    \n",
    "    if i!=0: #Cumulative totals are calculated in columns 4 and 5 from top to bottom.\n",
    "        loads[i][3]=loads[i][1]+loads[i-1][4]\n",
    "        loads[i][4]=loads[i][3]+loads[i][2]   \n",
    "        \n",
    "print(loads)"
   ]
  },
  {
   "cell_type": "code",
   "execution_count": 11,
   "metadata": {
    "colab": {
     "base_uri": "https://localhost:8080/"
    },
    "id": "WkUh6qNFrJVx",
    "outputId": "f978de4d-7917-4724-b81c-d96219083734"
   },
   "outputs": [
    {
     "name": "stdout",
     "output_type": "stream",
     "text": [
      "-2.0\n"
     ]
    }
   ],
   "source": [
    "#The minimum value is calculated from the columns with cumulative totals.\n",
    "a=loads[:,3:5].min() \n",
    "print(a)"
   ]
  },
  {
   "cell_type": "code",
   "execution_count": 12,
   "metadata": {
    "colab": {
     "base_uri": "https://localhost:8080/"
    },
    "id": "kfJykVVmrJVy",
    "outputId": "82ae212e-c0ef-400c-8299-a8d8fad31895"
   },
   "outputs": [
    {
     "name": "stdout",
     "output_type": "stream",
     "text": [
      "[[2. 2.]\n",
      " [2. 2.]\n",
      " [2. 2.]\n",
      " [2. 2.]\n",
      " [2. 2.]]\n"
     ]
    }
   ],
   "source": [
    "adjusted = np.ones((5,2)) # A matrix with all values of 1 is created.\n",
    "adjusted=adjusted*abs(a) #The generated matrix is multiplied by the absolute value of the minimum value obtained.\n",
    "print(adjusted)"
   ]
  },
  {
   "cell_type": "code",
   "execution_count": 13,
   "metadata": {
    "colab": {
     "base_uri": "https://localhost:8080/"
    },
    "id": "CyxW07EOrJVz",
    "outputId": "5e23eaf8-8c0e-4766-89ea-e78993947f4b"
   },
   "outputs": [
    {
     "name": "stdout",
     "output_type": "stream",
     "text": [
      "[[ 1.  2. -2.  2.  0.  4.  2.]\n",
      " [ 4.  0. -1.  0. -1.  2.  1.]\n",
      " [ 2.  0.  0. -1. -1.  1.  1.]\n",
      " [ 5.  3. -4.  2. -2.  4.  0.]\n",
      " [ 3.  2.  0.  0.  0.  2.  2.]]\n"
     ]
    }
   ],
   "source": [
    "loads[:,5:7]=loads[:,3:5]+adjusted #The adjusted cumulative loads values are added to the 'loads' matrix in columns 6 and 7.\n",
    "print(loads)"
   ]
  },
  {
   "cell_type": "code",
   "execution_count": 14,
   "metadata": {
    "colab": {
     "base_uri": "https://localhost:8080/"
    },
    "id": "PHNHydt9rJV0",
    "outputId": "c20dddde-e3ee-4d89-8ff6-dc0ed234fc91"
   },
   "outputs": [
    {
     "data": {
      "text/plain": [
       "array([[ 1.,  2., -2.,  2.,  0.,  4.,  2.],\n",
       "       [ 4.,  0., -1.,  0., -1.,  2.,  1.],\n",
       "       [ 2.,  0.,  0., -1., -1.,  1.,  1.],\n",
       "       [ 5.,  3., -4.,  2., -2.,  4.,  0.],\n",
       "       [ 3.,  2.,  0.,  0.,  0.,  2.,  2.]])"
      ]
     },
     "execution_count": 14,
     "metadata": {},
     "output_type": "execute_result"
    }
   ],
   "source": [
    "loads #'loads' matrix is printed."
   ]
  },
  {
   "cell_type": "code",
   "execution_count": 15,
   "metadata": {},
   "outputs": [
    {
     "name": "stdout",
     "output_type": "stream",
     "text": [
      "+-------------+---------+--------------+--------------+---------------+---------------+-------------------+------------------+\n",
      "|   Round no. |   Posi. |   St.1 Loads |   St.2 Loads |   St.1 Cum.L. |   St.2 Cum.L. |   St.1 Adj.Cum.L. |   St.2 Adj.Cum.L |\n",
      "|-------------+---------+--------------+--------------+---------------+---------------+-------------------+------------------|\n",
      "|           0 |       1 |            2 |           -2 |             2 |             0 |                 4 |                2 |\n",
      "|           1 |       4 |            0 |           -1 |             0 |            -1 |                 2 |                1 |\n",
      "|           2 |       2 |            0 |            0 |            -1 |            -1 |                 1 |                1 |\n",
      "|           3 |       5 |            3 |           -4 |             2 |            -2 |                 4 |                0 |\n",
      "|           4 |       3 |            2 |            0 |             0 |             0 |                 2 |                2 |\n",
      "+-------------+---------+--------------+--------------+---------------+---------------+-------------------+------------------+\n"
     ]
    }
   ],
   "source": [
    "#It is the implementation phase of the 'tabulate' table we import earlier.\n",
    "df = pd.DataFrame(loads)# The 'loads' matrix data is transferred to the dataframe.\n",
    "a=['Round no.',#The titles of the table have been determined.\n",
    "   'Posi.',\n",
    "    'St.1 Loads',\n",
    "   'St.2 Loads',\n",
    "   'St.1 Cum.L.',\n",
    "   'St.2 Cum.L.',\n",
    "   'St.1 Adj.Cum.L.',\n",
    "   'St.2 Adj.Cum.L',\n",
    "   ]\n",
    "print(tabulate(df, headers = a, tablefmt = 'psql'))#Prints dataframe and headers as strings."
   ]
  },
  {
   "cell_type": "raw",
   "metadata": {
    "id": "gyirKerKrJV1"
   },
   "source": [
    "After the 1st sequence of actions is tabulated, the remaining 7 sequences of actions proceed in the same way."
   ]
  },
  {
   "cell_type": "code",
   "execution_count": 16,
   "metadata": {
    "colab": {
     "base_uri": "https://localhost:8080/"
    },
    "id": "v8l7aY4ArJV1",
    "outputId": "2e8ed040-c7fe-4996-fdba-075df8746827"
   },
   "outputs": [
    {
     "name": "stdout",
     "output_type": "stream",
     "text": [
      "[[ 2.  0.  0.  0.  0.  0.  0.]\n",
      " [ 5.  3. -4.  3. -1.  0.  0.]\n",
      " [ 3.  2.  0.  1.  1.  0.  0.]\n",
      " [ 1.  2. -2.  3.  1.  0.  0.]\n",
      " [ 4.  0. -1.  1.  0.  0.  0.]]\n",
      "-1.0\n",
      "[[1. 1.]\n",
      " [1. 1.]\n",
      " [1. 1.]\n",
      " [1. 1.]\n",
      " [1. 1.]]\n",
      "[[ 2.  0.  0.  0.  0.  1.  1.]\n",
      " [ 5.  3. -4.  3. -1.  4.  0.]\n",
      " [ 3.  2.  0.  1.  1.  2.  2.]\n",
      " [ 1.  2. -2.  3.  1.  4.  2.]\n",
      " [ 4.  0. -1.  1.  0.  2.  1.]]\n",
      "+-------------+---------+--------------+--------------+---------------+---------------+-------------------+------------------+\n",
      "|   Round no. |   Posi. |   St.1 Loads |   St.2 Loads |   St.1 Cum.L. |   St.2 Cum.L. |   St.1 Adj.Cum.L. |   St.2 Adj.Cum.L |\n",
      "|-------------+---------+--------------+--------------+---------------+---------------+-------------------+------------------|\n",
      "|           0 |       2 |            0 |            0 |             0 |             0 |                 1 |                1 |\n",
      "|           1 |       5 |            3 |           -4 |             3 |            -1 |                 4 |                0 |\n",
      "|           2 |       3 |            2 |            0 |             1 |             1 |                 2 |                2 |\n",
      "|           3 |       1 |            2 |           -2 |             3 |             1 |                 4 |                2 |\n",
      "|           4 |       4 |            0 |           -1 |             1 |             0 |                 2 |                1 |\n",
      "+-------------+---------+--------------+--------------+---------------+---------------+-------------------+------------------+\n"
     ]
    }
   ],
   "source": [
    "#2nd sequence of actions are listed.\n",
    "loads2= np.zeros((5,7))\n",
    "for i in range(5):\n",
    "    loads2[i][0]=zero_matrıx[1][i]\n",
    "    loads2[i][1]=f1[int(loads2[i][0])-1]\n",
    "    loads2[i][2]=f2[int(loads2[i][0])-1]\n",
    "    loads2[0][3]=loads2[0][1] \n",
    "    loads2[0][4]=loads2[0][1]+loads2[0][2]\n",
    "    #loads[i+1][3]=loads[i][4]+loads[i+1][1]\n",
    "    loads2[0][4]=loads2[0][1]+loads2[0][2]    \n",
    "    if i!=0:\n",
    "        loads2[i][3]=loads2[i][1]+loads2[i-1][4]\n",
    "        loads2[i][4]=loads2[i][3]+loads2[i][2]        \n",
    "print(loads2)\n",
    "a=loads2[:,3:5].min()\n",
    "print(a)\n",
    "\n",
    "adjusted2 = np.ones((5,2))\n",
    "adjusted2=adjusted2*abs(a)\n",
    "print(adjusted2)\n",
    "\n",
    "loads2[:,5:7]=loads2[:,3:5]+adjusted2\n",
    "print(loads2)\n",
    "\n",
    "df2 = pd.DataFrame(loads2)\n",
    "a=['Round no.',\n",
    "   'Posi.',\n",
    "    'St.1 Loads',\n",
    "   'St.2 Loads',\n",
    "   'St.1 Cum.L.',\n",
    "   'St.2 Cum.L.',\n",
    "   'St.1 Adj.Cum.L.',\n",
    "   'St.2 Adj.Cum.L',\n",
    "   ]\n",
    "print(tabulate(df2, headers = a, tablefmt = 'psql'))"
   ]
  },
  {
   "cell_type": "code",
   "execution_count": 17,
   "metadata": {
    "colab": {
     "base_uri": "https://localhost:8080/"
    },
    "id": "3kCjNKwWrJV2",
    "outputId": "8760b811-4b67-4fd5-f3b2-c7d088b35925"
   },
   "outputs": [
    {
     "name": "stdout",
     "output_type": "stream",
     "text": [
      "[[ 3.  2.  0.  2.  2.  0.  0.]\n",
      " [ 1.  2. -2.  4.  2.  0.  0.]\n",
      " [ 4.  0. -1.  2.  1.  0.  0.]\n",
      " [ 2.  0.  0.  1.  1.  0.  0.]\n",
      " [ 5.  3. -4.  4.  0.  0.  0.]]\n",
      "0.0\n",
      "[[0. 0.]\n",
      " [0. 0.]\n",
      " [0. 0.]\n",
      " [0. 0.]\n",
      " [0. 0.]]\n",
      "[[ 3.  2.  0.  2.  2.  2.  2.]\n",
      " [ 1.  2. -2.  4.  2.  4.  2.]\n",
      " [ 4.  0. -1.  2.  1.  2.  1.]\n",
      " [ 2.  0.  0.  1.  1.  1.  1.]\n",
      " [ 5.  3. -4.  4.  0.  4.  0.]]\n",
      "+-------------+---------+--------------+--------------+---------------+---------------+-------------------+------------------+\n",
      "|   Round no. |   Posi. |   St.1 Loads |   St.2 Loads |   St.1 Cum.L. |   St.2 Cum.L. |   St.1 Adj.Cum.L. |   St.2 Adj.Cum.L |\n",
      "|-------------+---------+--------------+--------------+---------------+---------------+-------------------+------------------|\n",
      "|           0 |       3 |            2 |            0 |             2 |             2 |                 2 |                2 |\n",
      "|           1 |       1 |            2 |           -2 |             4 |             2 |                 4 |                2 |\n",
      "|           2 |       4 |            0 |           -1 |             2 |             1 |                 2 |                1 |\n",
      "|           3 |       2 |            0 |            0 |             1 |             1 |                 1 |                1 |\n",
      "|           4 |       5 |            3 |           -4 |             4 |             0 |                 4 |                0 |\n",
      "+-------------+---------+--------------+--------------+---------------+---------------+-------------------+------------------+\n"
     ]
    }
   ],
   "source": [
    "#3rd sequence of actions are listed.\n",
    "loads3= np.zeros((5,7))\n",
    "for i in range(5):\n",
    "    loads3[i][0]=zero_matrıx[2][i]\n",
    "    loads3[i][1]=f1[int(loads3[i][0])-1]\n",
    "    loads3[i][2]=f2[int(loads3[i][0])-1]\n",
    "    loads3[0][3]=loads3[0][1] \n",
    "    loads3[0][4]=loads3[0][1]+loads3[0][2]\n",
    "    #loads[i+1][3]=loads[i][4]+loads[i+1][1]\n",
    "    loads3[0][4]=loads3[0][1]+loads3[0][2]    \n",
    "    if i!=0:\n",
    "        loads3[i][3]=loads3[i][1]+loads3[i-1][4]\n",
    "        loads3[i][4]=loads3[i][3]+loads3[i][2]        \n",
    "print(loads3)\n",
    "a=loads3[:,3:5].min()\n",
    "print(a)\n",
    "\n",
    "adjusted3 = np.ones((5,2))\n",
    "adjusted3=adjusted3*abs(a)\n",
    "print(adjusted3)\n",
    "\n",
    "loads3[:,5:7]=loads3[:,3:5]+adjusted3\n",
    "print(loads3)\n",
    "\n",
    "df3 = pd.DataFrame(loads3)\n",
    "a=['Round no.',\n",
    "   'Posi.',\n",
    "    'St.1 Loads',\n",
    "   'St.2 Loads',\n",
    "   'St.1 Cum.L.',\n",
    "   'St.2 Cum.L.',\n",
    "   'St.1 Adj.Cum.L.',\n",
    "   'St.2 Adj.Cum.L',\n",
    "   ]\n",
    "print(tabulate(df3, headers = a, tablefmt = 'psql'))"
   ]
  },
  {
   "cell_type": "code",
   "execution_count": 18,
   "metadata": {
    "colab": {
     "base_uri": "https://localhost:8080/"
    },
    "id": "UsO-uWFOrJV4",
    "outputId": "c5bcad7d-5644-415f-9e64-e2660c3ce420"
   },
   "outputs": [
    {
     "name": "stdout",
     "output_type": "stream",
     "text": [
      "+-------------+---------+--------------+--------------+---------------+---------------+-------------------+------------------+\n",
      "|   Round no. |   Posi. |   St.1 Loads |   St.2 Loads |   St.1 Cum.L. |   St.2 Cum.L. |   St.1 Adj.Cum.L. |   St.2 Adj.Cum.L |\n",
      "|-------------+---------+--------------+--------------+---------------+---------------+-------------------+------------------|\n",
      "|           0 |       4 |            0 |           -1 |             0 |            -1 |                 2 |                1 |\n",
      "|           1 |       2 |            0 |            0 |            -1 |            -1 |                 1 |                1 |\n",
      "|           2 |       5 |            3 |           -4 |             2 |            -2 |                 4 |                0 |\n",
      "|           3 |       3 |            2 |            0 |             0 |             0 |                 2 |                2 |\n",
      "|           4 |       1 |            2 |           -2 |             2 |             0 |                 4 |                2 |\n",
      "+-------------+---------+--------------+--------------+---------------+---------------+-------------------+------------------+\n"
     ]
    }
   ],
   "source": [
    "#4rd sequence of actions are listed.\n",
    "loads4= np.zeros((5,7))\n",
    "for i in range(5):\n",
    "    loads4[i][0]=zero_matrıx[3][i]\n",
    "    loads4[i][1]=f1[int(loads4[i][0])-1]\n",
    "    loads4[i][2]=f2[int(loads4[i][0])-1]\n",
    "    loads4[0][3]=loads4[0][1] \n",
    "    loads4[0][4]=loads4[0][1]+loads4[0][2]\n",
    "    #loads[i+1][3]=loads[i][4]+loads[i+1][1]\n",
    "    loads4[0][4]=loads4[0][1]+loads4[0][2]    \n",
    "    if i!=0:\n",
    "        loads4[i][3]=loads4[i][1]+loads4[i-1][4]\n",
    "        loads4[i][4]=loads4[i][3]+loads4[i][2]        \n",
    "\n",
    "a=loads4[:,3:5].min()\n",
    "\n",
    "adjusted4 = np.ones((5,2))\n",
    "adjusted4=adjusted4*abs(a)\n",
    "\n",
    "\n",
    "loads4[:,5:7]=loads4[:,3:5]+adjusted4\n",
    "\n",
    "\n",
    "df4 = pd.DataFrame(loads4)\n",
    "a=['Round no.',\n",
    "   'Posi.',\n",
    "    'St.1 Loads',\n",
    "   'St.2 Loads',\n",
    "   'St.1 Cum.L.',\n",
    "   'St.2 Cum.L.',\n",
    "   'St.1 Adj.Cum.L.',\n",
    "   'St.2 Adj.Cum.L',\n",
    "   ]\n",
    "print(tabulate(df4, headers = a, tablefmt = 'psql'))"
   ]
  },
  {
   "cell_type": "code",
   "execution_count": 19,
   "metadata": {
    "colab": {
     "base_uri": "https://localhost:8080/"
    },
    "id": "3uvRrl5trJV5",
    "outputId": "ac89cf35-427c-4605-e704-f1db017e4a02"
   },
   "outputs": [
    {
     "name": "stdout",
     "output_type": "stream",
     "text": [
      "+-------------+---------+--------------+--------------+---------------+---------------+-------------------+------------------+\n",
      "|   Round no. |   Posi. |   St.1 Loads |   St.2 Loads |   St.1 Cum.L. |   St.2 Cum.L. |   St.1 Adj.Cum.L. |   St.2 Adj.Cum.L |\n",
      "|-------------+---------+--------------+--------------+---------------+---------------+-------------------+------------------|\n",
      "|           0 |       5 |            3 |           -4 |             3 |            -1 |                 4 |                0 |\n",
      "|           1 |       3 |            2 |            0 |             1 |             1 |                 2 |                2 |\n",
      "|           2 |       1 |            2 |           -2 |             3 |             1 |                 4 |                2 |\n",
      "|           3 |       4 |            0 |           -1 |             1 |             0 |                 2 |                1 |\n",
      "|           4 |       2 |            0 |            0 |             0 |             0 |                 1 |                1 |\n",
      "+-------------+---------+--------------+--------------+---------------+---------------+-------------------+------------------+\n"
     ]
    }
   ],
   "source": [
    "#5th sequence of actions are listed.\n",
    "loads5= np.zeros((5,7))\n",
    "for i in range(5):\n",
    "    loads5[i][0]=zero_matrıx[4][i]\n",
    "    loads5[i][1]=f1[int(loads5[i][0])-1]\n",
    "    loads5[i][2]=f2[int(loads5[i][0])-1]\n",
    "    loads5[0][3]=loads5[0][1] \n",
    "    loads5[0][4]=loads5[0][1]+loads5[0][2]\n",
    "    loads5[0][4]=loads5[0][1]+loads5[0][2]    \n",
    "    if i!=0:\n",
    "        loads5[i][3]=loads5[i][1]+loads5[i-1][4]\n",
    "        loads5[i][4]=loads5[i][3]+loads5[i][2]        \n",
    "\n",
    "a=loads5[:,3:5].min()\n",
    "\n",
    "adjusted5 = np.ones((5,2))\n",
    "adjusted5=adjusted5*abs(a)\n",
    "\n",
    "\n",
    "loads5[:,5:7]=loads5[:,3:5]+adjusted5\n",
    "\n",
    "\n",
    "df5 = pd.DataFrame(loads5)\n",
    "a=['Round no.',\n",
    "   'Posi.',\n",
    "    'St.1 Loads',\n",
    "   'St.2 Loads',\n",
    "   'St.1 Cum.L.',\n",
    "   'St.2 Cum.L.',\n",
    "   'St.1 Adj.Cum.L.',\n",
    "   'St.2 Adj.Cum.L',\n",
    "   ]\n",
    "print(tabulate(df5, headers = a, tablefmt = 'psql'))"
   ]
  },
  {
   "cell_type": "code",
   "execution_count": 20,
   "metadata": {
    "colab": {
     "base_uri": "https://localhost:8080/"
    },
    "id": "AI6HOFxarJV6",
    "outputId": "c0907929-f24a-474c-be94-d7cad470b3fc"
   },
   "outputs": [
    {
     "name": "stdout",
     "output_type": "stream",
     "text": [
      "+-------------+---------+--------------+--------------+---------------+---------------+-------------------+------------------+\n",
      "|   Round no. |   Posi. |   St.1 Loads |   St.2 Loads |   St.1 Cum.L. |   St.2 Cum.L. |   St.1 Adj.Cum.L. |   St.2 Adj.Cum.L |\n",
      "|-------------+---------+--------------+--------------+---------------+---------------+-------------------+------------------|\n",
      "|           0 |       1 |            2 |           -2 |             2 |             0 |                 4 |                2 |\n",
      "|           1 |       4 |            0 |           -1 |             0 |            -1 |                 2 |                1 |\n",
      "|           2 |       2 |            0 |            0 |            -1 |            -1 |                 1 |                1 |\n",
      "|           3 |       5 |            3 |           -4 |             2 |            -2 |                 4 |                0 |\n",
      "|           4 |       3 |            2 |            0 |             0 |             0 |                 2 |                2 |\n",
      "+-------------+---------+--------------+--------------+---------------+---------------+-------------------+------------------+\n"
     ]
    }
   ],
   "source": [
    "#6th sequence of actions are listed.\n",
    "loads6= np.zeros((5,7))\n",
    "for i in range(5):\n",
    "    loads6[i][0]=zero_matrıx[5][i]\n",
    "    loads6[i][1]=f1[int(loads6[i][0])-1]\n",
    "    loads6[i][2]=f2[int(loads6[i][0])-1]\n",
    "    loads6[0][3]=loads6[0][1] \n",
    "    loads6[0][4]=loads6[0][1]+loads6[0][2]\n",
    "    loads6[0][4]=loads6[0][1]+loads6[0][2]    \n",
    "    if i!=0:\n",
    "        loads6[i][3]=loads6[i][1]+loads6[i-1][4]\n",
    "        loads6[i][4]=loads6[i][3]+loads6[i][2]        \n",
    "\n",
    "a=loads6[:,3:5].min()\n",
    "\n",
    "adjusted6 = np.ones((5,2))\n",
    "adjusted6=adjusted6*abs(a)\n",
    "\n",
    "loads6[:,5:7]=loads6[:,3:5]+adjusted6\n",
    "\n",
    "df6 = pd.DataFrame(loads6)\n",
    "a=['Round no.',\n",
    "   'Posi.',\n",
    "    'St.1 Loads',\n",
    "   'St.2 Loads',\n",
    "   'St.1 Cum.L.',\n",
    "   'St.2 Cum.L.',\n",
    "   'St.1 Adj.Cum.L.',\n",
    "   'St.2 Adj.Cum.L',\n",
    "   ]\n",
    "print(tabulate(df6, headers = a, tablefmt = 'psql'))"
   ]
  },
  {
   "cell_type": "code",
   "execution_count": 21,
   "metadata": {
    "colab": {
     "base_uri": "https://localhost:8080/"
    },
    "id": "PZB-vkBkrJV7",
    "outputId": "7c0258a7-ef18-44cb-a832-ec56d09e1995"
   },
   "outputs": [
    {
     "name": "stdout",
     "output_type": "stream",
     "text": [
      "+-------------+---------+--------------+--------------+---------------+---------------+-------------------+------------------+\n",
      "|   Round no. |   Posi. |   St.1 Loads |   St.2 Loads |   St.1 Cum.L. |   St.2 Cum.L. |   St.1 Adj.Cum.L. |   St.2 Adj.Cum.L |\n",
      "|-------------+---------+--------------+--------------+---------------+---------------+-------------------+------------------|\n",
      "|           0 |       2 |            0 |            0 |             0 |             0 |                 1 |                1 |\n",
      "|           1 |       5 |            3 |           -4 |             3 |            -1 |                 4 |                0 |\n",
      "|           2 |       3 |            2 |            0 |             1 |             1 |                 2 |                2 |\n",
      "|           3 |       1 |            2 |           -2 |             3 |             1 |                 4 |                2 |\n",
      "|           4 |       4 |            0 |           -1 |             1 |             0 |                 2 |                1 |\n",
      "+-------------+---------+--------------+--------------+---------------+---------------+-------------------+------------------+\n"
     ]
    }
   ],
   "source": [
    "#7th sequence of actions are listed.\n",
    "loads7= np.zeros((5,7))\n",
    "for i in range(5):\n",
    "    loads7[i][0]=zero_matrıx[6][i]\n",
    "    loads7[i][1]=f1[int(loads7[i][0])-1]\n",
    "    loads7[i][2]=f2[int(loads7[i][0])-1]\n",
    "    loads7[0][3]=loads7[0][1] \n",
    "    loads7[0][4]=loads7[0][1]+loads7[0][2]\n",
    "    loads7[0][4]=loads7[0][1]+loads7[0][2]    \n",
    "    if i!=0:\n",
    "        loads7[i][3]=loads7[i][1]+loads7[i-1][4]\n",
    "        loads7[i][4]=loads7[i][3]+loads7[i][2]        \n",
    "\n",
    "a=loads7[:,3:5].min()\n",
    "\n",
    "adjusted7 = np.ones((5,2))\n",
    "adjusted7=adjusted7*abs(a)\n",
    "\n",
    "loads7[:,5:7]=loads7[:,3:5]+adjusted7\n",
    "\n",
    "df7 = pd.DataFrame(loads7)\n",
    "a=['Round no.',\n",
    "   'Posi.',\n",
    "    'St.1 Loads',\n",
    "   'St.2 Loads',\n",
    "   'St.1 Cum.L.',\n",
    "   'St.2 Cum.L.',\n",
    "   'St.1 Adj.Cum.L.',\n",
    "   'St.2 Adj.Cum.L',\n",
    "   ]\n",
    "print(tabulate(df7, headers = a, tablefmt = 'psql'))"
   ]
  },
  {
   "cell_type": "code",
   "execution_count": 22,
   "metadata": {
    "colab": {
     "base_uri": "https://localhost:8080/"
    },
    "id": "0iMfyG-2rJV_",
    "outputId": "dd3205f4-d56e-4830-c2ed-ea52ea4fe26a"
   },
   "outputs": [
    {
     "name": "stdout",
     "output_type": "stream",
     "text": [
      "+-------------+---------+--------------+--------------+---------------+---------------+-------------------+------------------+\n",
      "|   Round no. |   Posi. |   St.1 Loads |   St.2 Loads |   St.1 Cum.L. |   St.2 Cum.L. |   St.1 Adj.Cum.L. |   St.2 Adj.Cum.L |\n",
      "|-------------+---------+--------------+--------------+---------------+---------------+-------------------+------------------|\n",
      "|           0 |       3 |            2 |            0 |             2 |             2 |                 2 |                2 |\n",
      "|           1 |       1 |            2 |           -2 |             4 |             2 |                 4 |                2 |\n",
      "|           2 |       4 |            0 |           -1 |             2 |             1 |                 2 |                1 |\n",
      "|           3 |       2 |            0 |            0 |             1 |             1 |                 1 |                1 |\n",
      "|           4 |       5 |            3 |           -4 |             4 |             0 |                 4 |                0 |\n",
      "+-------------+---------+--------------+--------------+---------------+---------------+-------------------+------------------+\n"
     ]
    }
   ],
   "source": [
    "#8th sequence of actions are listed.\n",
    "loads8= np.zeros((5,7))\n",
    "for i in range(5):\n",
    "    loads8[i][0]=zero_matrıx[7][i]\n",
    "    loads8[i][1]=f1[int(loads8[i][0])-1]\n",
    "    loads8[i][2]=f2[int(loads8[i][0])-1]\n",
    "    loads8[0][3]=loads8[0][1] \n",
    "    loads8[0][4]=loads8[0][1]+loads8[0][2]\n",
    "    loads8[0][4]=loads8[0][1]+loads8[0][2]    \n",
    "    if i!=0:\n",
    "        loads8[i][3]=loads8[i][1]+loads8[i-1][4]\n",
    "        loads8[i][4]=loads8[i][3]+loads8[i][2]        \n",
    "\n",
    "a=loads8[:,3:5].min()\n",
    "\n",
    "adjusted8 = np.ones((5,2))\n",
    "adjusted8=adjusted8*abs(a)\n",
    "\n",
    "loads8[:,5:7]=loads8[:,3:5]+adjusted8\n",
    "\n",
    "df8 = pd.DataFrame(loads8)\n",
    "a=['Round no.',\n",
    "   'Posi.',\n",
    "    'St.1 Loads',\n",
    "   'St.2 Loads',\n",
    "   'St.1 Cum.L.',\n",
    "   'St.2 Cum.L.',\n",
    "   'St.1 Adj.Cum.L.',\n",
    "   'St.2 Adj.Cum.L',\n",
    "   ]\n",
    "print(tabulate(df8, headers = a, tablefmt = 'psql'))"
   ]
  },
  {
   "cell_type": "code",
   "execution_count": 23,
   "metadata": {
    "id": "7BsHw7MWrJWA"
   },
   "outputs": [],
   "source": [
    "# The minimum capacities required for the system to work are defined. \n",
    "#These capacities are the value in the 1st row of the st.1 adjusted cumulative load column.\n",
    "min_capacity_system_work=loads[0][5]\n",
    "min_capacity_system_work1=loads2[0][5]\n",
    "min_capacity_system_work2=loads3[0][5]\n",
    "min_capacity_system_work3=loads4[0][5]\n",
    "min_capacity_system_work4=loads5[0][5]\n",
    "min_capacity_system_work5=loads6[0][5]\n",
    "min_capacity_system_work6=loads7[0][5]\n",
    "min_capacity_system_work7=loads8[0][5]"
   ]
  },
  {
   "cell_type": "code",
   "execution_count": 24,
   "metadata": {
    "colab": {
     "base_uri": "https://localhost:8080/"
    },
    "id": "7nO7qr2hrJWB",
    "outputId": "2e82194d-1723-43f8-dc63-21a6f03343ef"
   },
   "outputs": [
    {
     "name": "stdout",
     "output_type": "stream",
     "text": [
      "for the sequence of actions  '[1. 4. 2. 5. 3.]', the minimum capacity required for the system to operate is 4.0\n",
      "for the sequence of actions  '[2. 5. 3. 1. 4.]', the minimum capacity required for the system to operate is 1.0\n",
      "for the sequence of actions  '[3. 1. 4. 2. 5.]', the minimum capacity required for the system to operate is 2.0\n",
      "for the sequence of actions  '[4. 2. 5. 3. 1.]', the minimum capacity required for the system to operate is 2.0\n",
      "for the sequence of actions  '[5. 3. 1. 4. 2.]', the minimum capacity required for the system to operate is 4.0\n",
      "for the sequence of actions  '[1. 4. 2. 5. 3.]', the minimum capacity required for the system to operate is 4.0\n",
      "for the sequence of actions  '[2. 5. 3. 1. 4.]', the minimum capacity required for the system to operate is 1.0\n",
      "for the sequence of actions  '[3. 1. 4. 2. 5.]', the minimum capacity required for the system to operate is 2.0\n"
     ]
    }
   ],
   "source": [
    "#The minimum capacity values required for the system to work are listed.\n",
    "print(f\"for the sequence of actions  '{zero_matrıx[0]}', the minimum capacity required for the system to operate is {min_capacity_system_work}\")\n",
    "print(f\"for the sequence of actions  '{zero_matrıx[1]}', the minimum capacity required for the system to operate is {min_capacity_system_work1}\")\n",
    "print(f\"for the sequence of actions  '{zero_matrıx[2]}', the minimum capacity required for the system to operate is {min_capacity_system_work2}\")\n",
    "print(f\"for the sequence of actions  '{zero_matrıx[3]}', the minimum capacity required for the system to operate is {min_capacity_system_work3}\")\n",
    "print(f\"for the sequence of actions  '{zero_matrıx[4]}', the minimum capacity required for the system to operate is {min_capacity_system_work4}\")\n",
    "print(f\"for the sequence of actions  '{zero_matrıx[5]}', the minimum capacity required for the system to operate is {min_capacity_system_work5}\")\n",
    "print(f\"for the sequence of actions  '{zero_matrıx[6]}', the minimum capacity required for the system to operate is {min_capacity_system_work6}\")\n",
    "print(f\"for the sequence of actions  '{zero_matrıx[7]}', the minimum capacity required for the system to operate is {min_capacity_system_work7}\")"
   ]
  },
  {
   "cell_type": "code",
   "execution_count": null,
   "metadata": {},
   "outputs": [],
   "source": []
  }
 ],
 "metadata": {
  "colab": {
   "provenance": []
  },
  "kernelspec": {
   "display_name": "Python 3 (ipykernel)",
   "language": "python",
   "name": "python3"
  },
  "language_info": {
   "codemirror_mode": {
    "name": "ipython",
    "version": 3
   },
   "file_extension": ".py",
   "mimetype": "text/x-python",
   "name": "python",
   "nbconvert_exporter": "python",
   "pygments_lexer": "ipython3",
   "version": "3.9.13"
  }
 },
 "nbformat": 4,
 "nbformat_minor": 1
}
