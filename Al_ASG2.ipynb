{
 "cells": [
  {
   "cell_type": "code",
   "execution_count": 1,
   "id": "8a8a4d3a",
   "metadata": {},
   "outputs": [],
   "source": [
    "%matplotlib notebook\n",
    "import numpy as np\n",
    "import matplotlib.pyplot as plt\n",
    "import pandas as pd\n",
    "from sklearn.model_selection import train_test_split\n",
    "from sklearn.neighbors import KNeighborsClassifier\n",
    "from sklearn.datasets import make_blobs\n",
    "from sklearn.model_selection import train_test_split\n",
    "\n",
    "DataSet = pd.read_csv('DataSet_For_Assignment.txt', sep = '\\t' ,decimal=',')"
   ]
  },
  {
   "cell_type": "code",
   "execution_count": 2,
   "id": "c9e3cb1f",
   "metadata": {},
   "outputs": [
    {
     "data": {
      "text/html": [
       "<div>\n",
       "<style scoped>\n",
       "    .dataframe tbody tr th:only-of-type {\n",
       "        vertical-align: middle;\n",
       "    }\n",
       "\n",
       "    .dataframe tbody tr th {\n",
       "        vertical-align: top;\n",
       "    }\n",
       "\n",
       "    .dataframe thead th {\n",
       "        text-align: right;\n",
       "    }\n",
       "</style>\n",
       "<table border=\"1\" class=\"dataframe\">\n",
       "  <thead>\n",
       "    <tr style=\"text-align: right;\">\n",
       "      <th></th>\n",
       "      <th>Unnamed: 0</th>\n",
       "      <th>X1</th>\n",
       "      <th>X2</th>\n",
       "      <th>X3</th>\n",
       "      <th>X4</th>\n",
       "      <th>X5</th>\n",
       "      <th>X6</th>\n",
       "      <th>X7</th>\n",
       "      <th>X8</th>\n",
       "      <th>X9</th>\n",
       "      <th>X10</th>\n",
       "      <th>Y</th>\n",
       "    </tr>\n",
       "  </thead>\n",
       "  <tbody>\n",
       "    <tr>\n",
       "      <th>0</th>\n",
       "      <td>1</td>\n",
       "      <td>-1.304479</td>\n",
       "      <td>0.893299</td>\n",
       "      <td>0.004174</td>\n",
       "      <td>0.838228</td>\n",
       "      <td>2.275087</td>\n",
       "      <td>1.051389</td>\n",
       "      <td>-1.445271</td>\n",
       "      <td>-1.204672</td>\n",
       "      <td>1.060063</td>\n",
       "      <td>-2.078716</td>\n",
       "      <td>0.0</td>\n",
       "    </tr>\n",
       "    <tr>\n",
       "      <th>1</th>\n",
       "      <td>2</td>\n",
       "      <td>0.192248</td>\n",
       "      <td>-1.375891</td>\n",
       "      <td>-1.950357</td>\n",
       "      <td>0.515301</td>\n",
       "      <td>2.304900</td>\n",
       "      <td>-1.555468</td>\n",
       "      <td>1.182440</td>\n",
       "      <td>0.293515</td>\n",
       "      <td>0.325293</td>\n",
       "      <td>1.194239</td>\n",
       "      <td>0.0</td>\n",
       "    </tr>\n",
       "    <tr>\n",
       "      <th>2</th>\n",
       "      <td>3</td>\n",
       "      <td>0.914410</td>\n",
       "      <td>-0.773929</td>\n",
       "      <td>-2.360937</td>\n",
       "      <td>-0.535586</td>\n",
       "      <td>-2.729650</td>\n",
       "      <td>2.125314</td>\n",
       "      <td>2.656328</td>\n",
       "      <td>0.613083</td>\n",
       "      <td>-1.324821</td>\n",
       "      <td>0.606743</td>\n",
       "      <td>1.0</td>\n",
       "    </tr>\n",
       "    <tr>\n",
       "      <th>3</th>\n",
       "      <td>4</td>\n",
       "      <td>-0.083261</td>\n",
       "      <td>-0.939008</td>\n",
       "      <td>0.501041</td>\n",
       "      <td>2.079054</td>\n",
       "      <td>-0.652789</td>\n",
       "      <td>0.854744</td>\n",
       "      <td>-0.236657</td>\n",
       "      <td>-0.730844</td>\n",
       "      <td>-1.213176</td>\n",
       "      <td>0.311913</td>\n",
       "      <td>1.0</td>\n",
       "    </tr>\n",
       "    <tr>\n",
       "      <th>4</th>\n",
       "      <td>5</td>\n",
       "      <td>1.444027</td>\n",
       "      <td>1.102958</td>\n",
       "      <td>1.478792</td>\n",
       "      <td>-0.394127</td>\n",
       "      <td>-1.538776</td>\n",
       "      <td>3.553901</td>\n",
       "      <td>-1.190602</td>\n",
       "      <td>0.699575</td>\n",
       "      <td>1.069579</td>\n",
       "      <td>1.486135</td>\n",
       "      <td>1.0</td>\n",
       "    </tr>\n",
       "    <tr>\n",
       "      <th>...</th>\n",
       "      <td>...</td>\n",
       "      <td>...</td>\n",
       "      <td>...</td>\n",
       "      <td>...</td>\n",
       "      <td>...</td>\n",
       "      <td>...</td>\n",
       "      <td>...</td>\n",
       "      <td>...</td>\n",
       "      <td>...</td>\n",
       "      <td>...</td>\n",
       "      <td>...</td>\n",
       "      <td>...</td>\n",
       "    </tr>\n",
       "    <tr>\n",
       "      <th>995</th>\n",
       "      <td>996</td>\n",
       "      <td>0.458720</td>\n",
       "      <td>-0.696886</td>\n",
       "      <td>-0.096505</td>\n",
       "      <td>0.499040</td>\n",
       "      <td>0.793902</td>\n",
       "      <td>-0.045804</td>\n",
       "      <td>0.745646</td>\n",
       "      <td>0.810379</td>\n",
       "      <td>0.632985</td>\n",
       "      <td>-0.415158</td>\n",
       "      <td>0.0</td>\n",
       "    </tr>\n",
       "    <tr>\n",
       "      <th>996</th>\n",
       "      <td>997</td>\n",
       "      <td>0.582524</td>\n",
       "      <td>0.649187</td>\n",
       "      <td>1.058842</td>\n",
       "      <td>0.563270</td>\n",
       "      <td>-0.699286</td>\n",
       "      <td>0.739002</td>\n",
       "      <td>-0.789959</td>\n",
       "      <td>-0.748531</td>\n",
       "      <td>0.275950</td>\n",
       "      <td>1.226278</td>\n",
       "      <td>1.0</td>\n",
       "    </tr>\n",
       "    <tr>\n",
       "      <th>997</th>\n",
       "      <td>998</td>\n",
       "      <td>-0.098154</td>\n",
       "      <td>-0.934674</td>\n",
       "      <td>-0.756948</td>\n",
       "      <td>0.086111</td>\n",
       "      <td>0.973741</td>\n",
       "      <td>2.240403</td>\n",
       "      <td>0.151647</td>\n",
       "      <td>-0.095265</td>\n",
       "      <td>-0.345404</td>\n",
       "      <td>-1.717909</td>\n",
       "      <td>1.0</td>\n",
       "    </tr>\n",
       "    <tr>\n",
       "      <th>998</th>\n",
       "      <td>999</td>\n",
       "      <td>-0.392780</td>\n",
       "      <td>0.326261</td>\n",
       "      <td>-0.709264</td>\n",
       "      <td>0.424083</td>\n",
       "      <td>3.170830</td>\n",
       "      <td>-1.002890</td>\n",
       "      <td>0.378222</td>\n",
       "      <td>0.026581</td>\n",
       "      <td>-0.626405</td>\n",
       "      <td>-2.146543</td>\n",
       "      <td>0.0</td>\n",
       "    </tr>\n",
       "    <tr>\n",
       "      <th>999</th>\n",
       "      <td>1000</td>\n",
       "      <td>-0.753698</td>\n",
       "      <td>0.690519</td>\n",
       "      <td>-1.185875</td>\n",
       "      <td>0.363108</td>\n",
       "      <td>-1.798350</td>\n",
       "      <td>-0.115386</td>\n",
       "      <td>-0.965843</td>\n",
       "      <td>-0.909834</td>\n",
       "      <td>-0.054636</td>\n",
       "      <td>1.621389</td>\n",
       "      <td>1.0</td>\n",
       "    </tr>\n",
       "  </tbody>\n",
       "</table>\n",
       "<p>1000 rows × 12 columns</p>\n",
       "</div>"
      ],
      "text/plain": [
       "     Unnamed: 0        X1        X2        X3        X4        X5        X6  \\\n",
       "0             1 -1.304479  0.893299  0.004174  0.838228  2.275087  1.051389   \n",
       "1             2  0.192248 -1.375891 -1.950357  0.515301  2.304900 -1.555468   \n",
       "2             3  0.914410 -0.773929 -2.360937 -0.535586 -2.729650  2.125314   \n",
       "3             4 -0.083261 -0.939008  0.501041  2.079054 -0.652789  0.854744   \n",
       "4             5  1.444027  1.102958  1.478792 -0.394127 -1.538776  3.553901   \n",
       "..          ...       ...       ...       ...       ...       ...       ...   \n",
       "995         996  0.458720 -0.696886 -0.096505  0.499040  0.793902 -0.045804   \n",
       "996         997  0.582524  0.649187  1.058842  0.563270 -0.699286  0.739002   \n",
       "997         998 -0.098154 -0.934674 -0.756948  0.086111  0.973741  2.240403   \n",
       "998         999 -0.392780  0.326261 -0.709264  0.424083  3.170830 -1.002890   \n",
       "999        1000 -0.753698  0.690519 -1.185875  0.363108 -1.798350 -0.115386   \n",
       "\n",
       "           X7        X8        X9       X10    Y  \n",
       "0   -1.445271 -1.204672  1.060063 -2.078716  0.0  \n",
       "1    1.182440  0.293515  0.325293  1.194239  0.0  \n",
       "2    2.656328  0.613083 -1.324821  0.606743  1.0  \n",
       "3   -0.236657 -0.730844 -1.213176  0.311913  1.0  \n",
       "4   -1.190602  0.699575  1.069579  1.486135  1.0  \n",
       "..        ...       ...       ...       ...  ...  \n",
       "995  0.745646  0.810379  0.632985 -0.415158  0.0  \n",
       "996 -0.789959 -0.748531  0.275950  1.226278  1.0  \n",
       "997  0.151647 -0.095265 -0.345404 -1.717909  1.0  \n",
       "998  0.378222  0.026581 -0.626405 -2.146543  0.0  \n",
       "999 -0.965843 -0.909834 -0.054636  1.621389  1.0  \n",
       "\n",
       "[1000 rows x 12 columns]"
      ]
     },
     "execution_count": 2,
     "metadata": {},
     "output_type": "execute_result"
    }
   ],
   "source": [
    "# We splitted our train set from the all data set including test data.\n",
    "DataSet.iloc[: 1000 , : ]"
   ]
  },
  {
   "cell_type": "code",
   "execution_count": 3,
   "id": "c21cebc9",
   "metadata": {},
   "outputs": [],
   "source": [
    "DataSet1 = DataSet.iloc[: 1000 , : ]"
   ]
  },
  {
   "cell_type": "markdown",
   "id": "0cb76545",
   "metadata": {},
   "source": [
    "# MODEL 1"
   ]
  },
  {
   "cell_type": "code",
   "execution_count": 4,
   "id": "62b5d394",
   "metadata": {},
   "outputs": [
    {
     "data": {
      "text/html": [
       "<div>\n",
       "<style scoped>\n",
       "    .dataframe tbody tr th:only-of-type {\n",
       "        vertical-align: middle;\n",
       "    }\n",
       "\n",
       "    .dataframe tbody tr th {\n",
       "        vertical-align: top;\n",
       "    }\n",
       "\n",
       "    .dataframe thead th {\n",
       "        text-align: right;\n",
       "    }\n",
       "</style>\n",
       "<table border=\"1\" class=\"dataframe\">\n",
       "  <thead>\n",
       "    <tr style=\"text-align: right;\">\n",
       "      <th></th>\n",
       "      <th>X1</th>\n",
       "      <th>X2</th>\n",
       "      <th>X3</th>\n",
       "      <th>X4</th>\n",
       "      <th>X5</th>\n",
       "      <th>X6</th>\n",
       "      <th>X7</th>\n",
       "      <th>X8</th>\n",
       "      <th>X9</th>\n",
       "      <th>X10</th>\n",
       "    </tr>\n",
       "  </thead>\n",
       "  <tbody>\n",
       "    <tr>\n",
       "      <th>0</th>\n",
       "      <td>-1.304479</td>\n",
       "      <td>0.893299</td>\n",
       "      <td>0.004174</td>\n",
       "      <td>0.838228</td>\n",
       "      <td>2.275087</td>\n",
       "      <td>1.051389</td>\n",
       "      <td>-1.445271</td>\n",
       "      <td>-1.204672</td>\n",
       "      <td>1.060063</td>\n",
       "      <td>-2.078716</td>\n",
       "    </tr>\n",
       "    <tr>\n",
       "      <th>1</th>\n",
       "      <td>0.192248</td>\n",
       "      <td>-1.375891</td>\n",
       "      <td>-1.950357</td>\n",
       "      <td>0.515301</td>\n",
       "      <td>2.304900</td>\n",
       "      <td>-1.555468</td>\n",
       "      <td>1.182440</td>\n",
       "      <td>0.293515</td>\n",
       "      <td>0.325293</td>\n",
       "      <td>1.194239</td>\n",
       "    </tr>\n",
       "    <tr>\n",
       "      <th>2</th>\n",
       "      <td>0.914410</td>\n",
       "      <td>-0.773929</td>\n",
       "      <td>-2.360937</td>\n",
       "      <td>-0.535586</td>\n",
       "      <td>-2.729650</td>\n",
       "      <td>2.125314</td>\n",
       "      <td>2.656328</td>\n",
       "      <td>0.613083</td>\n",
       "      <td>-1.324821</td>\n",
       "      <td>0.606743</td>\n",
       "    </tr>\n",
       "    <tr>\n",
       "      <th>3</th>\n",
       "      <td>-0.083261</td>\n",
       "      <td>-0.939008</td>\n",
       "      <td>0.501041</td>\n",
       "      <td>2.079054</td>\n",
       "      <td>-0.652789</td>\n",
       "      <td>0.854744</td>\n",
       "      <td>-0.236657</td>\n",
       "      <td>-0.730844</td>\n",
       "      <td>-1.213176</td>\n",
       "      <td>0.311913</td>\n",
       "    </tr>\n",
       "    <tr>\n",
       "      <th>4</th>\n",
       "      <td>1.444027</td>\n",
       "      <td>1.102958</td>\n",
       "      <td>1.478792</td>\n",
       "      <td>-0.394127</td>\n",
       "      <td>-1.538776</td>\n",
       "      <td>3.553901</td>\n",
       "      <td>-1.190602</td>\n",
       "      <td>0.699575</td>\n",
       "      <td>1.069579</td>\n",
       "      <td>1.486135</td>\n",
       "    </tr>\n",
       "  </tbody>\n",
       "</table>\n",
       "</div>"
      ],
      "text/plain": [
       "         X1        X2        X3        X4        X5        X6        X7  \\\n",
       "0 -1.304479  0.893299  0.004174  0.838228  2.275087  1.051389 -1.445271   \n",
       "1  0.192248 -1.375891 -1.950357  0.515301  2.304900 -1.555468  1.182440   \n",
       "2  0.914410 -0.773929 -2.360937 -0.535586 -2.729650  2.125314  2.656328   \n",
       "3 -0.083261 -0.939008  0.501041  2.079054 -0.652789  0.854744 -0.236657   \n",
       "4  1.444027  1.102958  1.478792 -0.394127 -1.538776  3.553901 -1.190602   \n",
       "\n",
       "         X8        X9       X10  \n",
       "0 -1.204672  1.060063 -2.078716  \n",
       "1  0.293515  0.325293  1.194239  \n",
       "2  0.613083 -1.324821  0.606743  \n",
       "3 -0.730844 -1.213176  0.311913  \n",
       "4  0.699575  1.069579  1.486135  "
      ]
     },
     "execution_count": 4,
     "metadata": {},
     "output_type": "execute_result"
    }
   ],
   "source": [
    "# All features are taken into account in MODEL1.\n",
    "X = DataSet1[['X1','X2', 'X3','X4','X5','X6','X7','X8','X9','X10']]\n",
    "X.head()"
   ]
  },
  {
   "cell_type": "code",
   "execution_count": 5,
   "id": "f00e00bc",
   "metadata": {},
   "outputs": [
    {
     "data": {
      "text/plain": [
       "0    0.0\n",
       "1    0.0\n",
       "2    1.0\n",
       "3    1.0\n",
       "4    1.0\n",
       "Name: Y, dtype: float64"
      ]
     },
     "execution_count": 5,
     "metadata": {},
     "output_type": "execute_result"
    }
   ],
   "source": [
    "y = DataSet1['Y']\n",
    "y.head()"
   ]
  },
  {
   "cell_type": "code",
   "execution_count": 6,
   "id": "1188b177",
   "metadata": {},
   "outputs": [],
   "source": [
    "X_train, X_test, y_train, y_test = train_test_split(X, y, random_state=0)"
   ]
  },
  {
   "cell_type": "code",
   "execution_count": 7,
   "id": "857654af",
   "metadata": {},
   "outputs": [],
   "source": [
    "# Just looking at the closest point while k is equal to 1.\n",
    "from sklearn.neighbors import KNeighborsClassifier\n",
    "\n",
    "knn = KNeighborsClassifier(n_neighbors = 1)"
   ]
  },
  {
   "cell_type": "code",
   "execution_count": 8,
   "id": "5278eec9",
   "metadata": {
    "scrolled": true
   },
   "outputs": [
    {
     "data": {
      "text/plain": [
       "KNeighborsClassifier(n_neighbors=1)"
      ]
     },
     "execution_count": 8,
     "metadata": {},
     "output_type": "execute_result"
    }
   ],
   "source": [
    "knn.fit(X_train, y_train)"
   ]
  },
  {
   "cell_type": "code",
   "execution_count": 9,
   "id": "c6f6ac38",
   "metadata": {},
   "outputs": [],
   "source": [
    "from sklearn.model_selection import train_test_split\n",
    "X_train, X_test, y_train, y_test = train_test_split(X, y, random_state=0,\n",
    "                                                    test_size=0.30)"
   ]
  },
  {
   "cell_type": "code",
   "execution_count": 10,
   "id": "d3203d07",
   "metadata": {},
   "outputs": [],
   "source": [
    "from sklearn.neighbors import KNeighborsClassifier\n"
   ]
  },
  {
   "cell_type": "code",
   "execution_count": 11,
   "id": "a3447e8c",
   "metadata": {},
   "outputs": [
    {
     "data": {
      "text/plain": [
       "KNeighborsClassifier(n_neighbors=1)"
      ]
     },
     "execution_count": 11,
     "metadata": {},
     "output_type": "execute_result"
    }
   ],
   "source": [
    "knn.fit(X_train,y_train)"
   ]
  },
  {
   "cell_type": "code",
   "execution_count": 12,
   "id": "0d613002",
   "metadata": {},
   "outputs": [
    {
     "name": "stdout",
     "output_type": "stream",
     "text": [
      "1.0 0.6033333333333334\n"
     ]
    }
   ],
   "source": [
    "# k=1 ---> overfitting \n",
    "print(knn.score(X_train, y_train),knn.score(X_test, y_test))"
   ]
  },
  {
   "cell_type": "markdown",
   "id": "276c11ce",
   "metadata": {},
   "source": [
    "# MODEL 2"
   ]
  },
  {
   "cell_type": "code",
   "execution_count": 13,
   "id": "26c80bed",
   "metadata": {},
   "outputs": [
    {
     "data": {
      "text/html": [
       "<div>\n",
       "<style scoped>\n",
       "    .dataframe tbody tr th:only-of-type {\n",
       "        vertical-align: middle;\n",
       "    }\n",
       "\n",
       "    .dataframe tbody tr th {\n",
       "        vertical-align: top;\n",
       "    }\n",
       "\n",
       "    .dataframe thead th {\n",
       "        text-align: right;\n",
       "    }\n",
       "</style>\n",
       "<table border=\"1\" class=\"dataframe\">\n",
       "  <thead>\n",
       "    <tr style=\"text-align: right;\">\n",
       "      <th></th>\n",
       "      <th>X1</th>\n",
       "      <th>X2</th>\n",
       "      <th>X3</th>\n",
       "      <th>X4</th>\n",
       "      <th>X5</th>\n",
       "      <th>X6</th>\n",
       "    </tr>\n",
       "  </thead>\n",
       "  <tbody>\n",
       "    <tr>\n",
       "      <th>0</th>\n",
       "      <td>-1.304479</td>\n",
       "      <td>0.893299</td>\n",
       "      <td>0.004174</td>\n",
       "      <td>0.838228</td>\n",
       "      <td>2.275087</td>\n",
       "      <td>1.051389</td>\n",
       "    </tr>\n",
       "    <tr>\n",
       "      <th>1</th>\n",
       "      <td>0.192248</td>\n",
       "      <td>-1.375891</td>\n",
       "      <td>-1.950357</td>\n",
       "      <td>0.515301</td>\n",
       "      <td>2.304900</td>\n",
       "      <td>-1.555468</td>\n",
       "    </tr>\n",
       "    <tr>\n",
       "      <th>2</th>\n",
       "      <td>0.914410</td>\n",
       "      <td>-0.773929</td>\n",
       "      <td>-2.360937</td>\n",
       "      <td>-0.535586</td>\n",
       "      <td>-2.729650</td>\n",
       "      <td>2.125314</td>\n",
       "    </tr>\n",
       "    <tr>\n",
       "      <th>3</th>\n",
       "      <td>-0.083261</td>\n",
       "      <td>-0.939008</td>\n",
       "      <td>0.501041</td>\n",
       "      <td>2.079054</td>\n",
       "      <td>-0.652789</td>\n",
       "      <td>0.854744</td>\n",
       "    </tr>\n",
       "    <tr>\n",
       "      <th>4</th>\n",
       "      <td>1.444027</td>\n",
       "      <td>1.102958</td>\n",
       "      <td>1.478792</td>\n",
       "      <td>-0.394127</td>\n",
       "      <td>-1.538776</td>\n",
       "      <td>3.553901</td>\n",
       "    </tr>\n",
       "  </tbody>\n",
       "</table>\n",
       "</div>"
      ],
      "text/plain": [
       "         X1        X2        X3        X4        X5        X6\n",
       "0 -1.304479  0.893299  0.004174  0.838228  2.275087  1.051389\n",
       "1  0.192248 -1.375891 -1.950357  0.515301  2.304900 -1.555468\n",
       "2  0.914410 -0.773929 -2.360937 -0.535586 -2.729650  2.125314\n",
       "3 -0.083261 -0.939008  0.501041  2.079054 -0.652789  0.854744\n",
       "4  1.444027  1.102958  1.478792 -0.394127 -1.538776  3.553901"
      ]
     },
     "execution_count": 13,
     "metadata": {},
     "output_type": "execute_result"
    }
   ],
   "source": [
    "# Following features are taken into account in MODEL 2.\n",
    "X2 = DataSet1[['X1','X2', 'X3','X4','X5','X6']]\n",
    "X2.head()"
   ]
  },
  {
   "cell_type": "code",
   "execution_count": 14,
   "id": "cd26fc20",
   "metadata": {},
   "outputs": [
    {
     "data": {
      "text/plain": [
       "0    0.0\n",
       "1    0.0\n",
       "2    1.0\n",
       "3    1.0\n",
       "4    1.0\n",
       "Name: Y, dtype: float64"
      ]
     },
     "execution_count": 14,
     "metadata": {},
     "output_type": "execute_result"
    }
   ],
   "source": [
    "y = DataSet1['Y']\n",
    "y.head()"
   ]
  },
  {
   "cell_type": "code",
   "execution_count": 15,
   "id": "28b2edfe",
   "metadata": {},
   "outputs": [],
   "source": [
    "X_train, X_test, y_train, y_test = train_test_split(X2, y, random_state=0)"
   ]
  },
  {
   "cell_type": "code",
   "execution_count": 16,
   "id": "fc40adf9",
   "metadata": {},
   "outputs": [],
   "source": [
    "from sklearn.neighbors import KNeighborsClassifier\n",
    "\n",
    "knn = KNeighborsClassifier(n_neighbors = 5)"
   ]
  },
  {
   "cell_type": "code",
   "execution_count": 17,
   "id": "3eba1744",
   "metadata": {},
   "outputs": [
    {
     "data": {
      "text/plain": [
       "KNeighborsClassifier()"
      ]
     },
     "execution_count": 17,
     "metadata": {},
     "output_type": "execute_result"
    }
   ],
   "source": [
    "knn.fit(X_train, y_train)"
   ]
  },
  {
   "cell_type": "code",
   "execution_count": 18,
   "id": "50eeda76",
   "metadata": {},
   "outputs": [
    {
     "name": "stdout",
     "output_type": "stream",
     "text": [
      "0.732 0.6\n"
     ]
    }
   ],
   "source": [
    "print(knn.score(X_train, y_train),knn.score(X_test, y_test))"
   ]
  },
  {
   "cell_type": "markdown",
   "id": "db731a9d",
   "metadata": {},
   "source": [
    "# MODEL 3"
   ]
  },
  {
   "cell_type": "code",
   "execution_count": 19,
   "id": "69ca701f",
   "metadata": {},
   "outputs": [
    {
     "data": {
      "text/html": [
       "<div>\n",
       "<style scoped>\n",
       "    .dataframe tbody tr th:only-of-type {\n",
       "        vertical-align: middle;\n",
       "    }\n",
       "\n",
       "    .dataframe tbody tr th {\n",
       "        vertical-align: top;\n",
       "    }\n",
       "\n",
       "    .dataframe thead th {\n",
       "        text-align: right;\n",
       "    }\n",
       "</style>\n",
       "<table border=\"1\" class=\"dataframe\">\n",
       "  <thead>\n",
       "    <tr style=\"text-align: right;\">\n",
       "      <th></th>\n",
       "      <th>X1</th>\n",
       "      <th>X2</th>\n",
       "      <th>X3</th>\n",
       "      <th>X4</th>\n",
       "      <th>X5</th>\n",
       "      <th>X6</th>\n",
       "      <th>X7</th>\n",
       "      <th>X8</th>\n",
       "      <th>X9</th>\n",
       "      <th>X10</th>\n",
       "    </tr>\n",
       "  </thead>\n",
       "  <tbody>\n",
       "    <tr>\n",
       "      <th>0</th>\n",
       "      <td>-1.304479</td>\n",
       "      <td>0.893299</td>\n",
       "      <td>0.004174</td>\n",
       "      <td>0.838228</td>\n",
       "      <td>2.275087</td>\n",
       "      <td>1.051389</td>\n",
       "      <td>-1.445271</td>\n",
       "      <td>-1.204672</td>\n",
       "      <td>1.060063</td>\n",
       "      <td>-2.078716</td>\n",
       "    </tr>\n",
       "    <tr>\n",
       "      <th>1</th>\n",
       "      <td>0.192248</td>\n",
       "      <td>-1.375891</td>\n",
       "      <td>-1.950357</td>\n",
       "      <td>0.515301</td>\n",
       "      <td>2.304900</td>\n",
       "      <td>-1.555468</td>\n",
       "      <td>1.182440</td>\n",
       "      <td>0.293515</td>\n",
       "      <td>0.325293</td>\n",
       "      <td>1.194239</td>\n",
       "    </tr>\n",
       "    <tr>\n",
       "      <th>2</th>\n",
       "      <td>0.914410</td>\n",
       "      <td>-0.773929</td>\n",
       "      <td>-2.360937</td>\n",
       "      <td>-0.535586</td>\n",
       "      <td>-2.729650</td>\n",
       "      <td>2.125314</td>\n",
       "      <td>2.656328</td>\n",
       "      <td>0.613083</td>\n",
       "      <td>-1.324821</td>\n",
       "      <td>0.606743</td>\n",
       "    </tr>\n",
       "    <tr>\n",
       "      <th>3</th>\n",
       "      <td>-0.083261</td>\n",
       "      <td>-0.939008</td>\n",
       "      <td>0.501041</td>\n",
       "      <td>2.079054</td>\n",
       "      <td>-0.652789</td>\n",
       "      <td>0.854744</td>\n",
       "      <td>-0.236657</td>\n",
       "      <td>-0.730844</td>\n",
       "      <td>-1.213176</td>\n",
       "      <td>0.311913</td>\n",
       "    </tr>\n",
       "    <tr>\n",
       "      <th>4</th>\n",
       "      <td>1.444027</td>\n",
       "      <td>1.102958</td>\n",
       "      <td>1.478792</td>\n",
       "      <td>-0.394127</td>\n",
       "      <td>-1.538776</td>\n",
       "      <td>3.553901</td>\n",
       "      <td>-1.190602</td>\n",
       "      <td>0.699575</td>\n",
       "      <td>1.069579</td>\n",
       "      <td>1.486135</td>\n",
       "    </tr>\n",
       "  </tbody>\n",
       "</table>\n",
       "</div>"
      ],
      "text/plain": [
       "         X1        X2        X3        X4        X5        X6        X7  \\\n",
       "0 -1.304479  0.893299  0.004174  0.838228  2.275087  1.051389 -1.445271   \n",
       "1  0.192248 -1.375891 -1.950357  0.515301  2.304900 -1.555468  1.182440   \n",
       "2  0.914410 -0.773929 -2.360937 -0.535586 -2.729650  2.125314  2.656328   \n",
       "3 -0.083261 -0.939008  0.501041  2.079054 -0.652789  0.854744 -0.236657   \n",
       "4  1.444027  1.102958  1.478792 -0.394127 -1.538776  3.553901 -1.190602   \n",
       "\n",
       "         X8        X9       X10  \n",
       "0 -1.204672  1.060063 -2.078716  \n",
       "1  0.293515  0.325293  1.194239  \n",
       "2  0.613083 -1.324821  0.606743  \n",
       "3 -0.730844 -1.213176  0.311913  \n",
       "4  0.699575  1.069579  1.486135  "
      ]
     },
     "execution_count": 19,
     "metadata": {},
     "output_type": "execute_result"
    }
   ],
   "source": [
    "# All features are taken into account in MODEL1.\n",
    "X3 = DataSet1[['X1','X2', 'X3','X4','X5','X6','X7','X8','X9','X10']]\n",
    "X3.head()"
   ]
  },
  {
   "cell_type": "code",
   "execution_count": 20,
   "id": "d4f091ad",
   "metadata": {},
   "outputs": [
    {
     "data": {
      "text/plain": [
       "0    0.0\n",
       "1    0.0\n",
       "2    1.0\n",
       "3    1.0\n",
       "4    1.0\n",
       "Name: Y, dtype: float64"
      ]
     },
     "execution_count": 20,
     "metadata": {},
     "output_type": "execute_result"
    }
   ],
   "source": [
    "y = DataSet1['Y']\n",
    "y.head()"
   ]
  },
  {
   "cell_type": "code",
   "execution_count": 21,
   "id": "835248b0",
   "metadata": {},
   "outputs": [],
   "source": [
    "X_train, X_test, y_train, y_test = train_test_split(X3, y, random_state=0)"
   ]
  },
  {
   "cell_type": "code",
   "execution_count": 22,
   "id": "97e9aabb",
   "metadata": {},
   "outputs": [],
   "source": [
    "from sklearn.neighbors import KNeighborsClassifier\n",
    "# High k value is choosen\n",
    "knn = KNeighborsClassifier(n_neighbors = 30)"
   ]
  },
  {
   "cell_type": "code",
   "execution_count": 23,
   "id": "208f61c8",
   "metadata": {},
   "outputs": [
    {
     "data": {
      "text/plain": [
       "KNeighborsClassifier(n_neighbors=30)"
      ]
     },
     "execution_count": 23,
     "metadata": {},
     "output_type": "execute_result"
    }
   ],
   "source": [
    "knn.fit(X_train, y_train)"
   ]
  },
  {
   "cell_type": "code",
   "execution_count": 24,
   "id": "498f66d0",
   "metadata": {},
   "outputs": [
    {
     "name": "stdout",
     "output_type": "stream",
     "text": [
      "0.72 0.704\n"
     ]
    }
   ],
   "source": [
    "print(knn.score(X_train, y_train),knn.score(X_test, y_test))"
   ]
  },
  {
   "cell_type": "markdown",
   "id": "3c5b6370",
   "metadata": {},
   "source": [
    "# Model 4"
   ]
  },
  {
   "cell_type": "code",
   "execution_count": 25,
   "id": "15579952",
   "metadata": {},
   "outputs": [
    {
     "data": {
      "text/html": [
       "<div>\n",
       "<style scoped>\n",
       "    .dataframe tbody tr th:only-of-type {\n",
       "        vertical-align: middle;\n",
       "    }\n",
       "\n",
       "    .dataframe tbody tr th {\n",
       "        vertical-align: top;\n",
       "    }\n",
       "\n",
       "    .dataframe thead th {\n",
       "        text-align: right;\n",
       "    }\n",
       "</style>\n",
       "<table border=\"1\" class=\"dataframe\">\n",
       "  <thead>\n",
       "    <tr style=\"text-align: right;\">\n",
       "      <th></th>\n",
       "      <th>X1</th>\n",
       "      <th>X2</th>\n",
       "      <th>X3</th>\n",
       "      <th>X4</th>\n",
       "      <th>X5</th>\n",
       "      <th>X6</th>\n",
       "    </tr>\n",
       "  </thead>\n",
       "  <tbody>\n",
       "    <tr>\n",
       "      <th>0</th>\n",
       "      <td>-1.304479</td>\n",
       "      <td>0.893299</td>\n",
       "      <td>0.004174</td>\n",
       "      <td>0.838228</td>\n",
       "      <td>2.275087</td>\n",
       "      <td>1.051389</td>\n",
       "    </tr>\n",
       "    <tr>\n",
       "      <th>1</th>\n",
       "      <td>0.192248</td>\n",
       "      <td>-1.375891</td>\n",
       "      <td>-1.950357</td>\n",
       "      <td>0.515301</td>\n",
       "      <td>2.304900</td>\n",
       "      <td>-1.555468</td>\n",
       "    </tr>\n",
       "    <tr>\n",
       "      <th>2</th>\n",
       "      <td>0.914410</td>\n",
       "      <td>-0.773929</td>\n",
       "      <td>-2.360937</td>\n",
       "      <td>-0.535586</td>\n",
       "      <td>-2.729650</td>\n",
       "      <td>2.125314</td>\n",
       "    </tr>\n",
       "    <tr>\n",
       "      <th>3</th>\n",
       "      <td>-0.083261</td>\n",
       "      <td>-0.939008</td>\n",
       "      <td>0.501041</td>\n",
       "      <td>2.079054</td>\n",
       "      <td>-0.652789</td>\n",
       "      <td>0.854744</td>\n",
       "    </tr>\n",
       "    <tr>\n",
       "      <th>4</th>\n",
       "      <td>1.444027</td>\n",
       "      <td>1.102958</td>\n",
       "      <td>1.478792</td>\n",
       "      <td>-0.394127</td>\n",
       "      <td>-1.538776</td>\n",
       "      <td>3.553901</td>\n",
       "    </tr>\n",
       "  </tbody>\n",
       "</table>\n",
       "</div>"
      ],
      "text/plain": [
       "         X1        X2        X3        X4        X5        X6\n",
       "0 -1.304479  0.893299  0.004174  0.838228  2.275087  1.051389\n",
       "1  0.192248 -1.375891 -1.950357  0.515301  2.304900 -1.555468\n",
       "2  0.914410 -0.773929 -2.360937 -0.535586 -2.729650  2.125314\n",
       "3 -0.083261 -0.939008  0.501041  2.079054 -0.652789  0.854744\n",
       "4  1.444027  1.102958  1.478792 -0.394127 -1.538776  3.553901"
      ]
     },
     "execution_count": 25,
     "metadata": {},
     "output_type": "execute_result"
    }
   ],
   "source": [
    "# Following features are taken into account in MODEL 4.\n",
    "X4 = DataSet1[['X1','X2', 'X3','X4','X5','X6']]\n",
    "X4.head()"
   ]
  },
  {
   "cell_type": "code",
   "execution_count": 26,
   "id": "902cbf78",
   "metadata": {},
   "outputs": [
    {
     "data": {
      "text/plain": [
       "0    0.0\n",
       "1    0.0\n",
       "2    1.0\n",
       "3    1.0\n",
       "4    1.0\n",
       "Name: Y, dtype: float64"
      ]
     },
     "execution_count": 26,
     "metadata": {},
     "output_type": "execute_result"
    }
   ],
   "source": [
    "y = DataSet1['Y']\n",
    "y.head()"
   ]
  },
  {
   "cell_type": "code",
   "execution_count": 27,
   "id": "675c8a28",
   "metadata": {},
   "outputs": [],
   "source": [
    "X_train, X_test, y_train, y_test = train_test_split(X4, y, random_state=0)"
   ]
  },
  {
   "cell_type": "code",
   "execution_count": 28,
   "id": "24c8031c",
   "metadata": {},
   "outputs": [],
   "source": [
    "from sklearn.neighbors import KNeighborsClassifier\n",
    "# Pretty much high k value is choosen\n",
    "knn = KNeighborsClassifier(n_neighbors = 700)"
   ]
  },
  {
   "cell_type": "code",
   "execution_count": 29,
   "id": "56f6eafe",
   "metadata": {},
   "outputs": [
    {
     "data": {
      "text/plain": [
       "KNeighborsClassifier(n_neighbors=700)"
      ]
     },
     "execution_count": 29,
     "metadata": {},
     "output_type": "execute_result"
    }
   ],
   "source": [
    "knn.fit(X_train, y_train)"
   ]
  },
  {
   "cell_type": "code",
   "execution_count": 30,
   "id": "d8d01d8b",
   "metadata": {},
   "outputs": [
    {
     "name": "stdout",
     "output_type": "stream",
     "text": [
      "0.5613333333333334 0.596\n"
     ]
    }
   ],
   "source": [
    "print(knn.score(X_train, y_train),knn.score(X_test, y_test))"
   ]
  },
  {
   "cell_type": "markdown",
   "id": "fd541ab3",
   "metadata": {},
   "source": [
    "# MODEL 5"
   ]
  },
  {
   "cell_type": "code",
   "execution_count": 31,
   "id": "912fa643",
   "metadata": {},
   "outputs": [
    {
     "data": {
      "text/html": [
       "<div>\n",
       "<style scoped>\n",
       "    .dataframe tbody tr th:only-of-type {\n",
       "        vertical-align: middle;\n",
       "    }\n",
       "\n",
       "    .dataframe tbody tr th {\n",
       "        vertical-align: top;\n",
       "    }\n",
       "\n",
       "    .dataframe thead th {\n",
       "        text-align: right;\n",
       "    }\n",
       "</style>\n",
       "<table border=\"1\" class=\"dataframe\">\n",
       "  <thead>\n",
       "    <tr style=\"text-align: right;\">\n",
       "      <th></th>\n",
       "      <th>X1</th>\n",
       "      <th>X2</th>\n",
       "      <th>X3</th>\n",
       "      <th>X4</th>\n",
       "      <th>X5</th>\n",
       "      <th>X6</th>\n",
       "      <th>X7</th>\n",
       "      <th>X8</th>\n",
       "      <th>X9</th>\n",
       "      <th>X10</th>\n",
       "    </tr>\n",
       "  </thead>\n",
       "  <tbody>\n",
       "    <tr>\n",
       "      <th>0</th>\n",
       "      <td>-1.304479</td>\n",
       "      <td>0.893299</td>\n",
       "      <td>0.004174</td>\n",
       "      <td>0.838228</td>\n",
       "      <td>2.275087</td>\n",
       "      <td>1.051389</td>\n",
       "      <td>-1.445271</td>\n",
       "      <td>-1.204672</td>\n",
       "      <td>1.060063</td>\n",
       "      <td>-2.078716</td>\n",
       "    </tr>\n",
       "    <tr>\n",
       "      <th>1</th>\n",
       "      <td>0.192248</td>\n",
       "      <td>-1.375891</td>\n",
       "      <td>-1.950357</td>\n",
       "      <td>0.515301</td>\n",
       "      <td>2.304900</td>\n",
       "      <td>-1.555468</td>\n",
       "      <td>1.182440</td>\n",
       "      <td>0.293515</td>\n",
       "      <td>0.325293</td>\n",
       "      <td>1.194239</td>\n",
       "    </tr>\n",
       "    <tr>\n",
       "      <th>2</th>\n",
       "      <td>0.914410</td>\n",
       "      <td>-0.773929</td>\n",
       "      <td>-2.360937</td>\n",
       "      <td>-0.535586</td>\n",
       "      <td>-2.729650</td>\n",
       "      <td>2.125314</td>\n",
       "      <td>2.656328</td>\n",
       "      <td>0.613083</td>\n",
       "      <td>-1.324821</td>\n",
       "      <td>0.606743</td>\n",
       "    </tr>\n",
       "    <tr>\n",
       "      <th>3</th>\n",
       "      <td>-0.083261</td>\n",
       "      <td>-0.939008</td>\n",
       "      <td>0.501041</td>\n",
       "      <td>2.079054</td>\n",
       "      <td>-0.652789</td>\n",
       "      <td>0.854744</td>\n",
       "      <td>-0.236657</td>\n",
       "      <td>-0.730844</td>\n",
       "      <td>-1.213176</td>\n",
       "      <td>0.311913</td>\n",
       "    </tr>\n",
       "    <tr>\n",
       "      <th>4</th>\n",
       "      <td>1.444027</td>\n",
       "      <td>1.102958</td>\n",
       "      <td>1.478792</td>\n",
       "      <td>-0.394127</td>\n",
       "      <td>-1.538776</td>\n",
       "      <td>3.553901</td>\n",
       "      <td>-1.190602</td>\n",
       "      <td>0.699575</td>\n",
       "      <td>1.069579</td>\n",
       "      <td>1.486135</td>\n",
       "    </tr>\n",
       "  </tbody>\n",
       "</table>\n",
       "</div>"
      ],
      "text/plain": [
       "         X1        X2        X3        X4        X5        X6        X7  \\\n",
       "0 -1.304479  0.893299  0.004174  0.838228  2.275087  1.051389 -1.445271   \n",
       "1  0.192248 -1.375891 -1.950357  0.515301  2.304900 -1.555468  1.182440   \n",
       "2  0.914410 -0.773929 -2.360937 -0.535586 -2.729650  2.125314  2.656328   \n",
       "3 -0.083261 -0.939008  0.501041  2.079054 -0.652789  0.854744 -0.236657   \n",
       "4  1.444027  1.102958  1.478792 -0.394127 -1.538776  3.553901 -1.190602   \n",
       "\n",
       "         X8        X9       X10  \n",
       "0 -1.204672  1.060063 -2.078716  \n",
       "1  0.293515  0.325293  1.194239  \n",
       "2  0.613083 -1.324821  0.606743  \n",
       "3 -0.730844 -1.213176  0.311913  \n",
       "4  0.699575  1.069579  1.486135  "
      ]
     },
     "execution_count": 31,
     "metadata": {},
     "output_type": "execute_result"
    }
   ],
   "source": [
    "# All features are taken into account in MODEL 5.\n",
    "X5 = DataSet1[['X1','X2', 'X3','X4','X5','X6','X7','X8','X9','X10']]\n",
    "X5.head()"
   ]
  },
  {
   "cell_type": "code",
   "execution_count": 32,
   "id": "f1fb8605",
   "metadata": {},
   "outputs": [
    {
     "name": "stdout",
     "output_type": "stream",
     "text": [
      "           X1        X2        X3        X4        X5        X6        X7  \\\n",
      "0   -1.304479  0.893299  0.004174  0.838228  2.275087  1.051389 -1.445271   \n",
      "1    0.192248 -1.375891 -1.950357  0.515301  2.304900 -1.555468  1.182440   \n",
      "2    0.914410 -0.773929 -2.360937 -0.535586 -2.729650  2.125314  2.656328   \n",
      "3   -0.083261 -0.939008  0.501041  2.079054 -0.652789  0.854744 -0.236657   \n",
      "4    1.444027  1.102958  1.478792 -0.394127 -1.538776  3.553901 -1.190602   \n",
      "..        ...       ...       ...       ...       ...       ...       ...   \n",
      "995  0.458720 -0.696886 -0.096505  0.499040  0.793902 -0.045804  0.745646   \n",
      "996  0.582524  0.649187  1.058842  0.563270 -0.699286  0.739002 -0.789959   \n",
      "997 -0.098154 -0.934674 -0.756948  0.086111  0.973741  2.240403  0.151647   \n",
      "998 -0.392780  0.326261 -0.709264  0.424083  3.170830 -1.002890  0.378222   \n",
      "999 -0.753698  0.690519 -1.185875  0.363108 -1.798350 -0.115386 -0.965843   \n",
      "\n",
      "           X8        X9       X10  \n",
      "0   -1.204672  1.060063 -2.078716  \n",
      "1    0.293515  0.325293  1.194239  \n",
      "2    0.613083 -1.324821  0.606743  \n",
      "3   -0.730844 -1.213176  0.311913  \n",
      "4    0.699575  1.069579  1.486135  \n",
      "..        ...       ...       ...  \n",
      "995  0.810379  0.632985 -0.415158  \n",
      "996 -0.748531  0.275950  1.226278  \n",
      "997 -0.095265 -0.345404 -1.717909  \n",
      "998  0.026581 -0.626405 -2.146543  \n",
      "999 -0.909834 -0.054636  1.621389  \n",
      "\n",
      "[1000 rows x 10 columns]\n"
     ]
    }
   ],
   "source": [
    "print(X5)"
   ]
  },
  {
   "cell_type": "code",
   "execution_count": 33,
   "id": "1b6b9aa6",
   "metadata": {},
   "outputs": [
    {
     "data": {
      "text/plain": [
       "0    0.0\n",
       "1    0.0\n",
       "2    1.0\n",
       "3    1.0\n",
       "4    1.0\n",
       "Name: Y, dtype: float64"
      ]
     },
     "execution_count": 33,
     "metadata": {},
     "output_type": "execute_result"
    }
   ],
   "source": [
    "y = DataSet1['Y']\n",
    "y.head()"
   ]
  },
  {
   "cell_type": "code",
   "execution_count": 34,
   "id": "c7b72cf3",
   "metadata": {},
   "outputs": [],
   "source": [
    "X_train, X_test, y_train, y_test = train_test_split(X5, y, random_state=0)"
   ]
  },
  {
   "cell_type": "code",
   "execution_count": 35,
   "id": "380369bf",
   "metadata": {},
   "outputs": [],
   "source": [
    "from sklearn.neighbors import KNeighborsClassifier\n",
    "\n",
    "knn = KNeighborsClassifier(n_neighbors = 5)\n"
   ]
  },
  {
   "cell_type": "code",
   "execution_count": 36,
   "id": "813745b5",
   "metadata": {},
   "outputs": [
    {
     "data": {
      "text/plain": [
       "KNeighborsClassifier()"
      ]
     },
     "execution_count": 36,
     "metadata": {},
     "output_type": "execute_result"
    }
   ],
   "source": [
    "knn.fit(X_train, y_train)"
   ]
  },
  {
   "cell_type": "code",
   "execution_count": 37,
   "id": "efbf39b0",
   "metadata": {},
   "outputs": [
    {
     "name": "stdout",
     "output_type": "stream",
     "text": [
      "0.7573333333333333 0.692\n"
     ]
    }
   ],
   "source": [
    "print(knn.score(X_train, y_train),knn.score(X_test, y_test))"
   ]
  },
  {
   "cell_type": "code",
   "execution_count": 38,
   "id": "47afff36",
   "metadata": {},
   "outputs": [],
   "source": [
    "# We select the 5th model since this model gives us the best train score."
   ]
  },
  {
   "cell_type": "markdown",
   "id": "80553c82",
   "metadata": {},
   "source": [
    "# Prediction"
   ]
  },
  {
   "cell_type": "code",
   "execution_count": 39,
   "id": "973a81b1",
   "metadata": {},
   "outputs": [],
   "source": [
    "# According to test set we tried to predict y values.\n",
    "DataSet2 = DataSet.iloc[1000 : , : ]"
   ]
  },
  {
   "cell_type": "code",
   "execution_count": 40,
   "id": "4bcf3c6a",
   "metadata": {},
   "outputs": [],
   "source": [
    "X_Prediction = DataSet2[['X1','X2', 'X3','X4','X5','X6','X7','X8','X9','X10']]"
   ]
  },
  {
   "cell_type": "code",
   "execution_count": 41,
   "id": "dfbec5ff",
   "metadata": {},
   "outputs": [
    {
     "name": "stdout",
     "output_type": "stream",
     "text": [
      "            X1        X2        X3        X4        X5        X6        X7  \\\n",
      "1000  1.854243 -0.078425 -2.090437  2.184340  0.088056 -1.093213 -0.563775   \n",
      "1001  0.207726 -0.518698 -2.986479  0.136216 -1.650902  2.028340 -0.283361   \n",
      "1002 -1.345787 -0.020362  0.532323  0.933127 -2.312780  3.309761 -1.418036   \n",
      "1003  0.419527 -1.469835  0.611746  1.312737 -1.931846 -0.814779  0.243534   \n",
      "1004  1.132712 -1.270035  2.537856 -1.531807  1.352672  1.757937 -0.148902   \n",
      "...        ...       ...       ...       ...       ...       ...       ...   \n",
      "1095 -0.861903 -0.072287  3.832280  1.420406 -0.891558  2.168405 -2.235014   \n",
      "1096  0.794255  0.057944  1.697445 -0.944967  1.428967 -0.931759 -1.648163   \n",
      "1097  0.161319 -0.459021 -0.871331 -0.732429  3.070956 -1.446839  0.164837   \n",
      "1098 -0.382850  0.413561  2.142973  2.118727  2.123478  0.728736 -3.868151   \n",
      "1099 -1.948876  1.485588 -0.710873  1.713181 -1.842353  0.770522 -0.402867   \n",
      "\n",
      "            X8        X9       X10  \n",
      "1000 -1.065315 -0.890131  0.178358  \n",
      "1001 -1.535706  0.308848 -0.498566  \n",
      "1002  0.326152 -1.444867  1.624674  \n",
      "1003  1.088939  0.018016 -0.352842  \n",
      "1004  0.627829  1.301874 -0.365061  \n",
      "...        ...       ...       ...  \n",
      "1095 -2.633568 -0.983089  2.963437  \n",
      "1096  1.224257  1.453628 -2.741035  \n",
      "1097  2.107883  0.040308 -0.451266  \n",
      "1098  0.981317  0.868770 -1.455225  \n",
      "1099  0.417841 -0.063193  1.102112  \n",
      "\n",
      "[100 rows x 10 columns]\n"
     ]
    }
   ],
   "source": [
    "print(X_Prediction)"
   ]
  },
  {
   "cell_type": "code",
   "execution_count": 42,
   "id": "f72ef34c",
   "metadata": {},
   "outputs": [],
   "source": [
    "DataSet_prediction = knn.predict(X_Prediction)"
   ]
  },
  {
   "cell_type": "code",
   "execution_count": 43,
   "id": "b8e72b63",
   "metadata": {},
   "outputs": [
    {
     "name": "stdout",
     "output_type": "stream",
     "text": [
      "[0. 1. 0. 0. 0. 0. 0. 0. 0. 1. 1. 1. 0. 1. 1. 1. 1. 1. 1. 1. 1. 0. 0. 1.\n",
      " 0. 1. 0. 0. 0. 0. 0. 1. 1. 0. 0. 1. 0. 1. 0. 1. 0. 0. 1. 1. 0. 1. 1. 0.\n",
      " 0. 1. 0. 0. 0. 0. 0. 0. 1. 0. 1. 0. 0. 0. 0. 0. 1. 0. 0. 1. 0. 0. 1. 1.\n",
      " 1. 1. 0. 1. 0. 1. 1. 0. 1. 0. 1. 0. 1. 1. 1. 0. 1. 1. 1. 1. 1. 0. 1. 1.\n",
      " 0. 0. 0. 1.]\n"
     ]
    }
   ],
   "source": [
    "print(DataSet_prediction)"
   ]
  }
 ],
 "metadata": {
  "kernelspec": {
   "display_name": "Python 3 (ipykernel)",
   "language": "python",
   "name": "python3"
  },
  "language_info": {
   "codemirror_mode": {
    "name": "ipython",
    "version": 3
   },
   "file_extension": ".py",
   "mimetype": "text/x-python",
   "name": "python",
   "nbconvert_exporter": "python",
   "pygments_lexer": "ipython3",
   "version": "3.9.13"
  }
 },
 "nbformat": 4,
 "nbformat_minor": 5
}
