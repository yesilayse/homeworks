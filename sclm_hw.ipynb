{
 "cells": [
  {
   "cell_type": "code",
   "execution_count": 1,
   "id": "2f9e9efc",
   "metadata": {
    "id": "2f9e9efc"
   },
   "outputs": [],
   "source": [
    "import pandas as pd\n",
    "import numpy as np\n",
    "import math"
   ]
  },
  {
   "cell_type": "code",
   "execution_count": 2,
   "id": "957741d5",
   "metadata": {
    "id": "957741d5"
   },
   "outputs": [],
   "source": [
    "np.random.seed(18069015) "
   ]
  },
  {
   "cell_type": "code",
   "execution_count": 3,
   "id": "a2a79df6",
   "metadata": {
    "id": "a2a79df6"
   },
   "outputs": [],
   "source": [
    "# Shipment cost from factory to distribution center\n",
    "RandomFtoD1 = np.round(np.random.uniform(low = 1, high = 10, size = 12),0).astype(int)\n",
    "RandomFtoD2 = np.reshape(RandomFtoD1, (4,3))\n",
    "CostFtoD = pd.DataFrame(RandomFtoD2, columns=['Atlas', 'Nebule',\"Azure\"], \n",
    "                        index=[\"Tonoz\",\"White Kiosk\",\"Quarterage\",\"Middle Yard\"])\n",
    "#CostFtoD # gives the shipment cost from factory to distribution center"
   ]
  },
  {
   "cell_type": "code",
   "execution_count": 4,
   "id": "ba04fec0",
   "metadata": {
    "id": "ba04fec0"
   },
   "outputs": [],
   "source": [
    "# Shipment cost from distribution center to store\n",
    "RandomDtoS1 = np.round(np.random.uniform(low = 1, high = 10, size = 15),0).astype(int)\n",
    "RandomDtoS2 = np.reshape(RandomDtoS1, (3,5))\n",
    "CostDtoS = pd.DataFrame(RandomDtoS2, columns=[\"Venus\", \"Minerva\", \"Neptunus\", \"Mars\", \"Ceres\"], \n",
    "                        index=['Atlas', 'Nebule',\"Azure\"])\n",
    "#CostDtoS # gives the shipment cost from distribution center to store"
   ]
  },
  {
   "cell_type": "code",
   "execution_count": 5,
   "id": "dfce259b",
   "metadata": {
    "id": "dfce259b"
   },
   "outputs": [],
   "source": [
    "# Shipment cost from factory to store\n",
    "RandomFtoS1 = np.round(np.random.uniform(low = 1, high = 10, size = 20),0).astype(int)\n",
    "RandomFtoS2 = np.reshape(RandomFtoS1, (4,5))\n",
    "CostFtoS = pd.DataFrame(RandomFtoS2, columns=[\"Venus\", \"Minerva\", \"Neptunus\", \"Mars\", \"Ceres\"],\n",
    "                        index=[\"Tonoz\",\"White Kiosk\",\"Quarterage\",\"Middle Yard\"])\n",
    "#CostFtoS # gives the shipment cost from distribution center to store"
   ]
  },
  {
   "cell_type": "code",
   "execution_count": 6,
   "id": "d91a90f9",
   "metadata": {
    "id": "d91a90f9",
    "outputId": "6e9230b9-a20c-4d3d-ae0e-700f9b9c53eb"
   },
   "outputs": [
    {
     "name": "stdout",
     "output_type": "stream",
     "text": [
      "The shipment cost from factory to distribution center\n",
      "             Atlas  Nebule  Azure\n",
      "Tonoz            5       7      8\n",
      "White Kiosk     10       2      6\n",
      "Quarterage       4       2      3\n",
      "Middle Yard      5       8      3\n",
      "\n",
      "The shipment cost from distribution center to store\n",
      "        Venus  Minerva  Neptunus  Mars  Ceres\n",
      "Atlas       3        9         1     5      7\n",
      "Nebule      8        5         4     2      3\n",
      "Azure       7       10         3     6      8\n",
      "\n",
      "The shipment cost from factory to store\n",
      "             Venus  Minerva  Neptunus  Mars  Ceres\n",
      "Tonoz            3        6         8     1      7\n",
      "White Kiosk      9        5         7     5      3\n",
      "Quarterage       7        4         3     1      1\n",
      "Middle Yard      1        3         2     2      2\n"
     ]
    }
   ],
   "source": [
    "# Your Required Information About Shipment Cost\n",
    "print(\"The shipment cost from factory to distribution center\")\n",
    "print(CostFtoD)\n",
    "print(\"\\nThe shipment cost from distribution center to store\")\n",
    "print(CostDtoS)\n",
    "print(\"\\nThe shipment cost from factory to store\")\n",
    "print(CostFtoS)"
   ]
  },
  {
   "cell_type": "code",
   "execution_count": 7,
   "id": "df0084b9",
   "metadata": {
    "id": "df0084b9",
    "outputId": "39ff8cb1-498b-4ca7-94ef-2b8641b60e67"
   },
   "outputs": [
    {
     "name": "stdout",
     "output_type": "stream",
     "text": [
      "Requirement already satisfied: pulp in c:\\users\\90541\\anaconda3\\lib\\site-packages (2.7.0)\n",
      "Note: you may need to restart the kernel to use updated packages.\n"
     ]
    }
   ],
   "source": [
    "pip install pulp"
   ]
  },
  {
   "cell_type": "code",
   "execution_count": 8,
   "id": "807e05a0",
   "metadata": {
    "id": "807e05a0"
   },
   "outputs": [],
   "source": [
    "from pulp import*"
   ]
  },
  {
   "cell_type": "code",
   "execution_count": 9,
   "id": "e6e1d68d",
   "metadata": {
    "id": "e6e1d68d"
   },
   "outputs": [],
   "source": [
    "# definition of sets and parameters\n",
    "\n",
    "# Factories, distribution centers and stores (sets)\n",
    "Factory = [\"Tonoz\",\"White Kiosk\",\"Quarterage\",\"Middle Yard\"]\n",
    "DistributionCenter = ['Atlas', 'Nebule',\"Azure\"]\n",
    "Stores = [\"Venus\", \"Minerva\", \"Neptunus\", \"Mars\", \"Ceres\"]\n",
    "\n",
    "# Capacities\n",
    "FCapacity = {\"Tonoz\":3000,\n",
    "             \"White Kiosk\":5000,\n",
    "             \"Quarterage\":10000,\n",
    "             \"Middle Yard\":7000}\n",
    "\n",
    "# Demand of the stores\n",
    "Demand = {\"Venus\":5500, \n",
    "          \"Minerva\":4750,\n",
    "          \"Neptunus\":6550, \n",
    "          \"Mars\":4000, \n",
    "          \"Ceres\":4200}\n",
    "\n",
    "# Costs\n",
    "CostFDC = {\"Tonoz\":{'Atlas':5, \n",
    "                    'Nebule':7,\n",
    "                    \"Azure\":8},\n",
    "           \"White Kiosk\":{'Atlas':10, \n",
    "                    'Nebule':2,\n",
    "                    \"Azure\":6},\n",
    "           \"Quarterage\":{'Atlas':4, \n",
    "                    'Nebule':2,\n",
    "                    \"Azure\":3},\n",
    "           \"Middle Yard\":{'Atlas':5, \n",
    "                    'Nebule':8,\n",
    "                    \"Azure\":3}}\n",
    "           \n",
    "CostDCS = {'Atlas':{\"Venus\":3, \"Minerva\":9, \"Neptunus\":1, \"Mars\":5, \"Ceres\":7}, \n",
    "           'Nebule':{\"Venus\":8, \"Minerva\":5, \"Neptunus\":4, \"Mars\":2, \"Ceres\":3},\n",
    "           \"Azure\":{\"Venus\":7, \"Minerva\":10, \"Neptunus\":3, \"Mars\":6, \"Ceres\":8}}\n",
    "\n",
    "\n",
    "CostFS = {\"Tonoz\":{\"Venus\":3, \"Minerva\":6, \"Neptunus\":8, \"Mars\":1, \"Ceres\":7},\n",
    "           \"White Kiosk\":{\"Venus\":9, \"Minerva\":5, \"Neptunus\":7, \"Mars\":5, \"Ceres\":3},\n",
    "           \"Quarterage\":{\"Venus\":7, \"Minerva\":4, \"Neptunus\":3, \"Mars\":1, \"Ceres\":1},\n",
    "           \"Middle Yard\":{\"Venus\":1, \"Minerva\":3, \"Neptunus\":2, \"Mars\":2, \"Ceres\":2}}\n"
   ]
  },
  {
   "cell_type": "code",
   "execution_count": 10,
   "id": "e858c722",
   "metadata": {
    "id": "e858c722"
   },
   "outputs": [],
   "source": [
    "prob = LpProblem(\"YTUManufacturing\", LpMinimize)"
   ]
  },
  {
   "cell_type": "markdown",
   "id": "6f5e8352",
   "metadata": {
    "id": "6f5e8352"
   },
   "source": [
    "### Decision variable"
   ]
  },
  {
   "cell_type": "code",
   "execution_count": 11,
   "id": "08c0cd37",
   "metadata": {
    "id": "08c0cd37"
   },
   "outputs": [],
   "source": [
    "X = LpVariable.dicts(\"x\",\n",
    "                     (Factory, DistributionCenter),\n",
    "                     lowBound = 0,\n",
    "                     upBound = None,\n",
    "                     cat = const.LpInteger)\n",
    "\n",
    "Y = LpVariable.dicts(\"x\",\n",
    "                     (DistributionCenter, Stores),\n",
    "                     lowBound = 0,\n",
    "                     upBound = None,\n",
    "                     cat = const.LpInteger)\n",
    "Z= LpVariable.dicts(\"x\",\n",
    "                     (Factory, Stores),\n",
    "                     lowBound = 0,\n",
    "                     upBound = None,\n",
    "                     cat = const.LpInteger)"
   ]
  },
  {
   "cell_type": "markdown",
   "id": "eb1c2331",
   "metadata": {
    "id": "eb1c2331"
   },
   "source": [
    "### Objective function"
   ]
  },
  {
   "cell_type": "code",
   "execution_count": 12,
   "id": "b3fd85bb",
   "metadata": {
    "id": "b3fd85bb"
   },
   "outputs": [],
   "source": [
    "prob += lpSum(CostFDC[i][j]*X[i][j] \\\n",
    "              for i in Factory for j in DistributionCenter) + lpSum(CostDCS[j][k]*Y[j][k] \\\n",
    "                                                                    for j in DistributionCenter for k in Stores)+ lpSum(CostFS[i][k]*Z[i][k]\\\n",
    "                                                                                                                        for i in Factory for k in Stores)\n"
   ]
  },
  {
   "cell_type": "markdown",
   "id": "1d8e09e2",
   "metadata": {
    "id": "1d8e09e2"
   },
   "source": [
    "### Constraints"
   ]
  },
  {
   "cell_type": "code",
   "execution_count": 13,
   "id": "28c19077",
   "metadata": {
    "id": "28c19077",
    "outputId": "ae82a9ed-a0a8-49ce-f879-12da605e1862"
   },
   "outputs": [],
   "source": [
    "# Constraints\n",
    "\n",
    "for k in Stores:\n",
    "    prob += lpSum(Y[j][k] for j in DistributionCenter)+lpSum(Z[i][k] for i in Factory) >= Demand[k]\n",
    "    \n",
    "for j in DistributionCenter:\n",
    "    prob += lpSum(X[i][j] for i in Factory) >= lpSum(Y[j][k] for k in Stores)\n",
    "    \n",
    "for i in Factory:\n",
    "    prob += lpSum(X[i][j] for j in DistributionCenter)+lpSum(Z[i][k] for k in Stores) <= FCapacity[i]"
   ]
  },
  {
   "cell_type": "markdown",
   "id": "535d3aef",
   "metadata": {
    "id": "535d3aef"
   },
   "source": [
    "### Solve problem"
   ]
  },
  {
   "cell_type": "code",
   "execution_count": 14,
   "id": "1276af06",
   "metadata": {
    "id": "1276af06",
    "outputId": "a1c1b4b0-22b0-4edc-d786-f4ae14a30a9e"
   },
   "outputs": [
    {
     "data": {
      "text/plain": [
       "1"
      ]
     },
     "execution_count": 14,
     "metadata": {},
     "output_type": "execute_result"
    }
   ],
   "source": [
    "prob.solve()"
   ]
  },
  {
   "cell_type": "code",
   "execution_count": 15,
   "id": "36e33ee1",
   "metadata": {
    "id": "36e33ee1",
    "outputId": "4eff4bab-9ee6-473b-e4ba-051d10aa5e54"
   },
   "outputs": [
    {
     "name": "stdout",
     "output_type": "stream",
     "text": [
      "The problem is  Optimal\n",
      "The objective function value is  56100.0\n",
      "x_Middle_Yard_Neptunus = 1500.0\n",
      "x_Middle_Yard_Venus = 5500.0\n",
      "x_Quarterage_Ceres = 3950.0\n",
      "x_Quarterage_Mars = 1000.0\n",
      "x_Quarterage_Neptunus = 5050.0\n",
      "x_Tonoz_Mars = 3000.0\n",
      "x_White_Kiosk_Ceres = 250.0\n",
      "x_White_Kiosk_Minerva = 4750.0\n"
     ]
    }
   ],
   "source": [
    "print(\"The problem is \", LpStatus[prob.status])\n",
    "print(\"The objective function value is \", value(prob.objective))\n",
    "for v in prob.variables():\n",
    "    if v.varValue > 0.1:\n",
    "        print(v.name, \"=\", v.varValue)"
   ]
  },
  {
   "cell_type": "code",
   "execution_count": null,
   "id": "2a0d7bb5",
   "metadata": {
    "id": "2a0d7bb5"
   },
   "outputs": [],
   "source": []
  }
 ],
 "metadata": {
  "colab": {
   "provenance": []
  },
  "kernelspec": {
   "display_name": "Python 3 (ipykernel)",
   "language": "python",
   "name": "python3"
  },
  "language_info": {
   "codemirror_mode": {
    "name": "ipython",
    "version": 3
   },
   "file_extension": ".py",
   "mimetype": "text/x-python",
   "name": "python",
   "nbconvert_exporter": "python",
   "pygments_lexer": "ipython3",
   "version": "3.9.13"
  }
 },
 "nbformat": 4,
 "nbformat_minor": 5
}
